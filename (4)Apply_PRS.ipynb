{
 "cells": [
  {
   "cell_type": "markdown",
   "metadata": {},
   "source": [
    "# Intro"
   ]
  },
  {
   "cell_type": "markdown",
   "metadata": {},
   "source": [
    "**Author:** Stephan Cordogan"
   ]
  },
  {
   "cell_type": "markdown",
   "metadata": {},
   "source": [
    "**Import a PRS scoring file with GRCh38 coordinates** [(a)](#Import-PRS-and-organize-data), which can be created using the UCSC liftover tool if your file does not use them.  \n",
    "Use same Hail environment as used previously."
   ]
  },
  {
   "cell_type": "markdown",
   "metadata": {},
   "source": [
    "# Import Necessary Packages"
   ]
  },
  {
   "cell_type": "code",
   "execution_count": null,
   "metadata": {
    "execution": {
     "iopub.execute_input": "2024-04-19T15:31:41.481107Z",
     "iopub.status.busy": "2024-04-19T15:31:41.480225Z",
     "iopub.status.idle": "2024-04-19T15:31:41.486288Z",
     "shell.execute_reply": "2024-04-19T15:31:41.484516Z"
    }
   },
   "outputs": [],
   "source": [
    "from datetime import datetime\n",
    "import os\n",
    "import pandas as pd\n",
    "import hail as hl"
   ]
  },
  {
   "cell_type": "code",
   "execution_count": null,
   "metadata": {
    "execution": {
     "iopub.execute_input": "2024-04-19T15:31:41.490973Z",
     "iopub.status.busy": "2024-04-19T15:31:41.490350Z",
     "iopub.status.idle": "2024-04-19T15:31:41.495824Z",
     "shell.execute_reply": "2024-04-19T15:31:41.494697Z"
    }
   },
   "outputs": [],
   "source": [
    "start = datetime.now()"
   ]
  },
  {
   "cell_type": "code",
   "execution_count": null,
   "metadata": {
    "execution": {
     "iopub.execute_input": "2024-04-19T15:31:41.500499Z",
     "iopub.status.busy": "2024-04-19T15:31:41.500070Z",
     "iopub.status.idle": "2024-04-19T15:31:41.510115Z",
     "shell.execute_reply": "2024-04-19T15:31:41.508570Z"
    }
   },
   "outputs": [],
   "source": [
    "bucket = os.getenv('WORKSPACE_BUCKET')\n",
    "bucket"
   ]
  },
  {
   "cell_type": "code",
   "execution_count": null,
   "metadata": {
    "execution": {
     "iopub.execute_input": "2024-04-19T15:31:44.512028Z",
     "iopub.status.busy": "2024-04-19T15:31:44.510814Z",
     "iopub.status.idle": "2024-04-19T15:31:59.517502Z",
     "shell.execute_reply": "2024-04-19T15:31:59.516209Z"
    }
   },
   "outputs": [],
   "source": [
    "hl.init(default_reference = \"GRCh38\")"
   ]
  },
  {
   "cell_type": "markdown",
   "metadata": {},
   "source": [
    "## Loading the Hail MatrixTable containing the variants"
   ]
  },
  {
   "cell_type": "code",
   "execution_count": null,
   "metadata": {
    "execution": {
     "iopub.execute_input": "2024-04-19T15:31:59.523403Z",
     "iopub.status.busy": "2024-04-19T15:31:59.523044Z",
     "iopub.status.idle": "2024-04-19T15:31:59.530240Z",
     "shell.execute_reply": "2024-04-19T15:31:59.528918Z"
    }
   },
   "outputs": [],
   "source": [
    "# mt_path = os.getenv(\"WGS_CLINVAR_SPLIT_HAIL_PATH\")\n",
    "mt_path = os.getenv(\"WGS_ACAF_THRESHOLD_SPLIT_HAIL_PATH\")\n",
    "# mt_path = os.getenv(\"WGS_ACAF_THRESHOLD_MULTI_HAIL_PATH\")\n",
    "\n",
    "mt_path"
   ]
  },
  {
   "cell_type": "code",
   "execution_count": null,
   "metadata": {
    "execution": {
     "iopub.execute_input": "2024-04-19T15:31:59.535853Z",
     "iopub.status.busy": "2024-04-19T15:31:59.534946Z",
     "iopub.status.idle": "2024-04-19T15:32:04.524427Z",
     "shell.execute_reply": "2024-04-19T15:32:04.522864Z"
    }
   },
   "outputs": [],
   "source": [
    "mt = hl.read_matrix_table(mt_path)"
   ]
  },
  {
   "cell_type": "markdown",
   "metadata": {},
   "source": [
    "Specify a subset of the data if desired"
   ]
  },
  {
   "cell_type": "code",
   "execution_count": null,
   "metadata": {
    "execution": {
     "iopub.execute_input": "2024-04-19T15:32:08.900792Z",
     "iopub.status.busy": "2024-04-19T15:32:08.900323Z",
     "iopub.status.idle": "2024-04-19T15:32:08.906073Z",
     "shell.execute_reply": "2024-04-19T15:32:08.904811Z"
    }
   },
   "outputs": [],
   "source": [
    "# test_intervals = ['chr5']"
   ]
  },
  {
   "cell_type": "code",
   "execution_count": null,
   "metadata": {
    "execution": {
     "iopub.execute_input": "2024-04-19T15:32:08.911432Z",
     "iopub.status.busy": "2024-04-19T15:32:08.910761Z",
     "iopub.status.idle": "2024-04-19T15:32:09.683332Z",
     "shell.execute_reply": "2024-04-19T15:32:09.682225Z"
    }
   },
   "outputs": [],
   "source": [
    "# mt = hl.filter_intervals(\n",
    "#     mt,\n",
    "#     [hl.parse_locus_interval(x,)\n",
    "#      for x in test_intervals])"
   ]
  },
  {
   "cell_type": "code",
   "execution_count": null,
   "metadata": {
    "execution": {
     "iopub.execute_input": "2024-04-19T15:32:09.688860Z",
     "iopub.status.busy": "2024-04-19T15:32:09.688466Z",
     "iopub.status.idle": "2024-04-19T15:32:49.978058Z",
     "shell.execute_reply": "2024-04-19T15:32:49.976897Z"
    }
   },
   "outputs": [],
   "source": [
    "# mt.count()"
   ]
  },
  {
   "cell_type": "markdown",
   "metadata": {},
   "source": [
    "## Load phenotypic data and link with genotype data"
   ]
  },
  {
   "cell_type": "markdown",
   "metadata": {},
   "source": [
    "Read the phenotype file from your workspace bucket, created in Notebook 1"
   ]
  },
  {
   "cell_type": "code",
   "execution_count": null,
   "metadata": {
    "execution": {
     "iopub.execute_input": "2024-04-19T15:32:49.983204Z",
     "iopub.status.busy": "2024-04-19T15:32:49.982572Z",
     "iopub.status.idle": "2024-04-19T15:32:49.988652Z",
     "shell.execute_reply": "2024-04-19T15:32:49.987668Z"
    }
   },
   "outputs": [],
   "source": [
    "phenotype_filename = f'{bucket}/data/genomics_phenotypes.tsv'\n",
    "phenotype_filename"
   ]
  },
  {
   "cell_type": "code",
   "execution_count": null,
   "metadata": {
    "code_folding": [],
    "execution": {
     "iopub.execute_input": "2024-04-19T15:32:50.001516Z",
     "iopub.status.busy": "2024-04-19T15:32:50.000546Z",
     "iopub.status.idle": "2024-04-19T15:32:54.316564Z",
     "shell.execute_reply": "2024-04-19T15:32:54.315538Z"
    },
    "scrolled": false
   },
   "outputs": [],
   "source": [
    "phenotypes = (hl.import_table(phenotype_filename,\n",
    "                              types={'person_id':hl.tstr},\n",
    "                              impute=True,\n",
    "                              key='person_id')\n",
    "             )"
   ]
  },
  {
   "cell_type": "markdown",
   "metadata": {},
   "source": [
    "Keep only samples which have phenotype values"
   ]
  },
  {
   "cell_type": "code",
   "execution_count": null,
   "metadata": {
    "execution": {
     "iopub.execute_input": "2024-04-19T15:32:54.321533Z",
     "iopub.status.busy": "2024-04-19T15:32:54.320615Z",
     "iopub.status.idle": "2024-04-19T15:33:35.657844Z",
     "shell.execute_reply": "2024-04-19T15:33:35.656598Z"
    }
   },
   "outputs": [],
   "source": [
    "mt = mt.semi_join_cols(phenotypes)"
   ]
  },
  {
   "cell_type": "code",
   "execution_count": null,
   "metadata": {
    "execution": {
     "iopub.execute_input": "2024-04-19T15:33:35.663727Z",
     "iopub.status.busy": "2024-04-19T15:33:35.663308Z",
     "iopub.status.idle": "2024-04-19T15:33:35.684390Z",
     "shell.execute_reply": "2024-04-19T15:33:35.683422Z"
    }
   },
   "outputs": [],
   "source": [
    "mt = mt.annotate_cols(pheno = phenotypes[mt.s])"
   ]
  },
  {
   "cell_type": "markdown",
   "metadata": {},
   "source": [
    "# Pre-process the genomic data and perform QC"
   ]
  },
  {
   "cell_type": "markdown",
   "metadata": {},
   "source": [
    "Remove related samples"
   ]
  },
  {
   "cell_type": "code",
   "execution_count": null,
   "metadata": {
    "execution": {
     "iopub.execute_input": "2024-04-19T15:33:35.690611Z",
     "iopub.status.busy": "2024-04-19T15:33:35.689900Z",
     "iopub.status.idle": "2024-04-19T15:33:35.694087Z",
     "shell.execute_reply": "2024-04-19T15:33:35.693235Z"
    }
   },
   "outputs": [],
   "source": [
    "related_samples_path = \"gs://fc-aou-datasets-controlled/v7/wgs/short_read/snpindel/aux/relatedness/relatedness_flagged_samples.tsv\""
   ]
  },
  {
   "cell_type": "code",
   "execution_count": null,
   "metadata": {
    "execution": {
     "iopub.execute_input": "2024-04-19T15:33:35.698177Z",
     "iopub.status.busy": "2024-04-19T15:33:35.697891Z",
     "iopub.status.idle": "2024-04-19T15:33:37.138215Z",
     "shell.execute_reply": "2024-04-19T15:33:37.137159Z"
    }
   },
   "outputs": [],
   "source": [
    "related_remove = hl.import_table(related_samples_path,\n",
    "                                 types={\"sample_id\":\"tstr\"},\n",
    "                                key=\"sample_id\")\n",
    "\n",
    "#related_remove.count()"
   ]
  },
  {
   "cell_type": "code",
   "execution_count": null,
   "metadata": {
    "execution": {
     "iopub.execute_input": "2024-04-19T15:33:37.142758Z",
     "iopub.status.busy": "2024-04-19T15:33:37.142344Z",
     "iopub.status.idle": "2024-04-19T15:34:17.740963Z",
     "shell.execute_reply": "2024-04-19T15:34:17.739621Z"
    }
   },
   "outputs": [],
   "source": [
    "mt = mt.anti_join_cols(related_remove)\n",
    "#mt.count()"
   ]
  },
  {
   "cell_type": "markdown",
   "metadata": {},
   "source": [
    "Import predicted ancestry\n"
   ]
  },
  {
   "cell_type": "code",
   "execution_count": null,
   "metadata": {
    "execution": {
     "iopub.execute_input": "2024-04-19T15:34:17.745922Z",
     "iopub.status.busy": "2024-04-19T15:34:17.745281Z",
     "iopub.status.idle": "2024-04-19T15:34:17.749816Z",
     "shell.execute_reply": "2024-04-19T15:34:17.748869Z"
    }
   },
   "outputs": [],
   "source": [
    "ancestry_pred_path = \"gs://fc-aou-datasets-controlled/v7/wgs/short_read/snpindel/aux/ancestry/ancestry_preds.tsv\""
   ]
  },
  {
   "cell_type": "code",
   "execution_count": null,
   "metadata": {
    "execution": {
     "iopub.execute_input": "2024-04-19T15:34:17.753792Z",
     "iopub.status.busy": "2024-04-19T15:34:17.753239Z",
     "iopub.status.idle": "2024-04-19T15:34:21.175719Z",
     "shell.execute_reply": "2024-04-19T15:34:21.174409Z"
    }
   },
   "outputs": [],
   "source": [
    "ancestry_pred = hl.import_table(ancestry_pred_path,\n",
    "                               key=\"research_id\", \n",
    "                               impute=True, \n",
    "                               types={\"research_id\":\"tstr\",\"pca_features\":hl.tarray(hl.tfloat)})"
   ]
  },
  {
   "cell_type": "code",
   "execution_count": null,
   "metadata": {
    "execution": {
     "iopub.execute_input": "2024-04-19T15:34:21.180130Z",
     "iopub.status.busy": "2024-04-19T15:34:21.179826Z",
     "iopub.status.idle": "2024-04-19T15:34:21.201320Z",
     "shell.execute_reply": "2024-04-19T15:34:21.200415Z"
    }
   },
   "outputs": [],
   "source": [
    "mt = mt.annotate_cols(ancestry_pred = ancestry_pred[mt.s])"
   ]
  },
  {
   "cell_type": "markdown",
   "metadata": {},
   "source": [
    "Optionally filter ethnic groups"
   ]
  },
  {
   "cell_type": "code",
   "execution_count": null,
   "metadata": {},
   "outputs": [],
   "source": [
    "mt_eur = mt.filter_cols(mt.ancestry_pred.ancestry_pred == \"eur\")\n",
    "# mt_pheno_eur.col.describe()\n",
    "mt_orig = mt\n",
    "mt = mt_eur"
   ]
  },
  {
   "cell_type": "markdown",
   "metadata": {},
   "source": [
    "## Import PRS and organize data"
   ]
  },
  {
   "cell_type": "markdown",
   "metadata": {},
   "source": [
    "Unzip, inspect, import, and rearrange the PRS information"
   ]
  },
  {
   "cell_type": "code",
   "execution_count": null,
   "metadata": {},
   "outputs": [],
   "source": [
    "print(os.getcwd())"
   ]
  },
  {
   "cell_type": "code",
   "execution_count": null,
   "metadata": {},
   "outputs": [],
   "source": [
    "!gunzip PGS001101_with_pos38.txt.gz"
   ]
  },
  {
   "cell_type": "code",
   "execution_count": null,
   "metadata": {},
   "outputs": [],
   "source": [
    "import gzip\n",
    "import shutil\n",
    "\n",
    "with gzip.open('/home/jupyter/workspaces/flagshipgwas/PGS001101_with_pos38.txt.gz', 'rb') as f_in:\n",
    "    with open('/home/jupyter/workspaces/flagshipgwas/PGS001101_with_pos38.txt', 'wb') as f_out:\n",
    "        shutil.copyfileobj(f_in, f_out)"
   ]
  },
  {
   "cell_type": "code",
   "execution_count": null,
   "metadata": {},
   "outputs": [],
   "source": [
    "# print the first 15 lines of the file to inspect\n",
    "with open('/home/jupyter/workspaces/flagshipgwas/PGS001101_with_pos38.txt', 'r') as file:\n",
    "    for _ in range(16):\n",
    "        print(file.readline())"
   ]
  },
  {
   "cell_type": "code",
   "execution_count": null,
   "metadata": {},
   "outputs": [],
   "source": [
    "BF_PRS = pd.read_csv('/home/jupyter/workspaces/flagshipgwas/PGS001101_with_pos38.txt', delimiter='\\t', comment='#')\n",
    "\n",
    "BF_PRS.rename(columns={\n",
    "    'chr_name': 'chromosome',\n",
    "    'chr_position': 'position',\n",
    "    'effect_allele': 'effect_allele',\n",
    "    'other_allele': 'other_allele',\n",
    "    'effect_weight': 'beta'\n",
    "}, inplace=True)"
   ]
  },
  {
   "cell_type": "code",
   "execution_count": null,
   "metadata": {},
   "outputs": [],
   "source": [
    "print(BF_PRS.head(5))"
   ]
  },
  {
   "cell_type": "code",
   "execution_count": null,
   "metadata": {},
   "outputs": [],
   "source": [
    "ht = hl.Table.from_pandas(BF_PRS)\n",
    "\n",
    "# check chromosome is cast to string and position to integer\n",
    "ht = ht.annotate(\n",
    "    chromosome_str=hl.str(ht['chromosome']),\n",
    "    position_int=hl.int(ht['position'])\n",
    ")\n",
    "\n",
    "ht = ht.filter(ht.position_int > 0)\n",
    "\n",
    "# convert chromosome and position to locus\n",
    "ht = ht.transmute(locus=hl.locus(ht.chromosome_str, ht.position_int))\n",
    "\n",
    "ht.show(5)"
   ]
  },
  {
   "cell_type": "code",
   "execution_count": null,
   "metadata": {},
   "outputs": [],
   "source": [
    "mt.describe()"
   ]
  },
  {
   "cell_type": "code",
   "execution_count": null,
   "metadata": {},
   "outputs": [],
   "source": [
    "ht = ht.select('effect_allele', 'other_allele', 'beta', 'locus')\n",
    "ht = ht.key_by('locus', 'effect_allele', 'other_allele')\n",
    "ht.show(5)"
   ]
  },
  {
   "cell_type": "code",
   "execution_count": null,
   "metadata": {},
   "outputs": [],
   "source": [
    "ht = ht.key_by('locus')"
   ]
  },
  {
   "cell_type": "code",
   "execution_count": null,
   "metadata": {},
   "outputs": [],
   "source": [
    "mt.count()"
   ]
  },
  {
   "cell_type": "markdown",
   "metadata": {},
   "source": [
    "Generate genotype matrix filtered to SNPs present in PRS (no allele swapping)"
   ]
  },
  {
   "cell_type": "code",
   "execution_count": null,
   "metadata": {},
   "outputs": [],
   "source": [
    "mt = mt.annotate_rows(ht_data=ht[mt.locus])\n",
    "\n",
    "mt = mt.filter_rows(\n",
    "    hl.is_defined(mt.ht_data) & (\n",
    "        (mt.alleles[1] == mt.ht_data.effect_allele) & (mt.alleles[0] == mt.ht_data.other_allele)  # Direct match\n",
    "    )\n",
    ")\n",
    "\n",
    "mt.count()\n",
    "\n",
    "prs_filtered_mt = mt\n",
    "mt_save_path = f'{bucket}/data/prs_filtered_mt.mt'\n",
    "prs_filtered_mt.write(mt_save_path)\n",
    "\n",
    "# mt = mt.filter_rows(\n",
    "#     hl.is_defined(mt.ht_data) & (\n",
    "#         (mt.alleles[1] == mt.ht_data.effect_allele) & (mt.alleles[0] == mt.ht_data.other_allele)  # direct match\n",
    "#         |\n",
    "#         (mt.alleles[0] == mt.ht_data.effect_allele) & (mt.alleles[1] == mt.ht_data.other_allele)  # switched alleles\n",
    "#     )\n",
    "# )\n",
    "\n",
    "# mt = mt.annotate_rows(\n",
    "#     gwas = hl.if_else(\n",
    "#         (mt.alleles[0] == mt.ht_data.effect_allele) & (mt.alleles[1] == mt.ht_data.other_allele),\n",
    "#         # direct match, no changes needed\n",
    "#         mt.ht_data,\n",
    "#         # switched alleles- swap alleles and multiply beta by -1\n",
    "#         mt.ht_data.annotate(\n",
    "#             effect_allele = mt.ht_data.other_allele,\n",
    "#             other_allele = mt.ht_data.effect_allele,\n",
    "#             beta = -mt.ht_data.beta\n",
    "#         )\n",
    "#     )\n",
    "# )"
   ]
  },
  {
   "cell_type": "markdown",
   "metadata": {},
   "source": [
    "## Calculate PRS"
   ]
  },
  {
   "cell_type": "code",
   "execution_count": null,
   "metadata": {},
   "outputs": [],
   "source": [
    "mt_file_path = f'{bucket}/data/prs_filtered_mt.mt'\n",
    "\n",
    "mt = hl.read_matrix_table(mt_file_path)\n"
   ]
  },
  {
   "cell_type": "code",
   "execution_count": null,
   "metadata": {},
   "outputs": [],
   "source": [
    "mt.describe()"
   ]
  },
  {
   "cell_type": "code",
   "execution_count": null,
   "metadata": {},
   "outputs": [],
   "source": [
    "mt = mt.annotate_rows(mean_dosage=hl.agg.mean(hl.or_else(mt.GT.n_alt_alleles(), 0)))\n",
    "\n",
    "# calculate mean dosage for each variant\n",
    "mt = mt.annotate_rows(mean_dosage=hl.agg.mean(hl.or_else(mt.GT.n_alt_alleles(), 0)))\n",
    "\n",
    "N = 3  # number of decimal places\n",
    "mt = mt.annotate_entries(\n",
    "    imputed_GT=hl.if_else(\n",
    "        hl.is_missing(mt.GT),\n",
    "        hl.call(hl.round(mt.mean_dosage * (10**N)) / (10**N)),\n",
    "        mt.GT\n",
    "    )\n",
    ")\n",
    "\n",
    "cols_table = mt.cols()\n",
    "# select the relevant fields from the column table\n",
    "prs_table = cols_table.select(cols_table.prs, cols_table.pheno.has_pheno)\n",
    "# prs_table.show(5)\n",
    "\n",
    "prs_table_save_path = f'{bucket}/data/prs_table.tsv.bgz'\n",
    "\n",
    "prs_table.export(prs_table_save_path)\n"
   ]
  },
  {
   "cell_type": "code",
   "execution_count": null,
   "metadata": {},
   "outputs": [],
   "source": [
    "scores_file_path = f'{bucket}/data/prs_table.tsv.bgz'\n",
    "!gsutil cp {scores_file_path} .\n",
    "!bgzip -d prs_table.tsv.bgz "
   ]
  },
  {
   "cell_type": "markdown",
   "metadata": {},
   "source": [
    "# Compare PRS values across cases and controls"
   ]
  },
  {
   "cell_type": "markdown",
   "metadata": {},
   "source": [
    "Note that this does not consider any other covariates, just a quick crude test."
   ]
  },
  {
   "cell_type": "code",
   "execution_count": null,
   "metadata": {},
   "outputs": [],
   "source": [
    "prs_table = pd.read_csv('prs_table.tsv', delimiter='\\t')"
   ]
  },
  {
   "cell_type": "code",
   "execution_count": null,
   "metadata": {},
   "outputs": [],
   "source": [
    "prs_table.head()"
   ]
  },
  {
   "cell_type": "code",
   "execution_count": null,
   "metadata": {},
   "outputs": [],
   "source": [
    "average_prs_pheno_0 = prs_table[prs_table['has_pheno'] == 0]['prs'].mean()\n",
    "\n",
    "average_prs_pheno_1 = prs_table[prs_table['has_pheno'] == 1]['prs'].mean()\n",
    "\n",
    "print(f\"Average PRS for controls: {average_prs_pheno_0}\")\n",
    "print(f\"Average PRS for cases: {average_prs_pheno_1}\")\n"
   ]
  },
  {
   "cell_type": "code",
   "execution_count": null,
   "metadata": {},
   "outputs": [],
   "source": [
    "from scipy.stats import ttest_ind\n",
    "\n",
    "# separate PRS values for the two groups\n",
    "prs_pheno_0 = prs_table[prs_table['has_pheno'] == 0]['prs']\n",
    "prs_pheno_1 = prs_table[prs_table['has_pheno'] == 1]['prs']\n",
    "\n",
    "# perform two-sample t-test\n",
    "t_stat, p_value = ttest_ind(prs_pheno_0, prs_pheno_1, equal_var=False)\n",
    "\n",
    "print(f\"T-statistic: {t_stat}\")\n",
    "print(f\"P-value: {p_value}\")\n",
    "if p_value < 0.05:\n",
    "    print(\"Statistically Significant (p < 0.05)\")\n",
    "else:\n",
    "    print(\"Not Statistically Significant (p >= 0.05)\")"
   ]
  }
 ],
 "metadata": {
  "kernelspec": {
   "display_name": "Python 3",
   "language": "python",
   "name": "python3"
  },
  "language_info": {
   "codemirror_mode": {
    "name": "ipython",
    "version": 3
   },
   "file_extension": ".py",
   "mimetype": "text/x-python",
   "name": "python",
   "nbconvert_exporter": "python",
   "pygments_lexer": "ipython3",
   "version": "3.10.12"
  },
  "toc": {
   "base_numbering": 1,
   "nav_menu": {},
   "number_sections": true,
   "sideBar": true,
   "skip_h1_title": false,
   "title_cell": "Table of Contents",
   "title_sidebar": "Contents",
   "toc_cell": false,
   "toc_position": {},
   "toc_section_display": true,
   "toc_window_display": false
  }
 },
 "nbformat": 4,
 "nbformat_minor": 2
}
