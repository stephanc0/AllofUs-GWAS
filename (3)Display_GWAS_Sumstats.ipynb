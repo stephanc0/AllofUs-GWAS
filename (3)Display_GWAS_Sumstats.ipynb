{
 "cells": [
  {
   "cell_type": "markdown",
   "metadata": {},
   "source": [
    "# Intro"
   ]
  },
  {
   "cell_type": "markdown",
   "metadata": {},
   "source": [
    "**Author:** Stephan Cordogan"
   ]
  },
  {
   "cell_type": "markdown",
   "metadata": {},
   "source": [
    "This notebook generates a Manhattan Plot, QQ Plot, and genomic inflation factor for your meta-analyzed summary statistics."
   ]
  },
  {
   "cell_type": "markdown",
   "metadata": {},
   "source": [
    "# Import Necessary Packages"
   ]
  },
  {
   "cell_type": "markdown",
   "metadata": {},
   "source": [
    "Use a General Analysis environment, Python Kernel"
   ]
  },
  {
   "cell_type": "code",
   "execution_count": null,
   "metadata": {
    "execution": {
     "iopub.execute_input": "2024-04-19T15:31:41.481107Z",
     "iopub.status.busy": "2024-04-19T15:31:41.480225Z",
     "iopub.status.idle": "2024-04-19T15:31:41.486288Z",
     "shell.execute_reply": "2024-04-19T15:31:41.484516Z"
    }
   },
   "outputs": [],
   "source": [
    "from datetime import datetime\n",
    "import os\n",
    "import pandas as pd\n"
   ]
  },
  {
   "cell_type": "code",
   "execution_count": null,
   "metadata": {
    "execution": {
     "iopub.execute_input": "2024-04-19T15:31:41.490973Z",
     "iopub.status.busy": "2024-04-19T15:31:41.490350Z",
     "iopub.status.idle": "2024-04-19T15:31:41.495824Z",
     "shell.execute_reply": "2024-04-19T15:31:41.494697Z"
    }
   },
   "outputs": [],
   "source": [
    "start = datetime.now()\n",
    "bucket = os.getenv('WORKSPACE_BUCKET')\n",
    "bucket"
   ]
  },
  {
   "cell_type": "code",
   "execution_count": null,
   "metadata": {},
   "outputs": [],
   "source": [
    "!gsutil ls $WORKSPACE_BUCKET/data"
   ]
  },
  {
   "cell_type": "code",
   "execution_count": null,
   "metadata": {},
   "outputs": [],
   "source": [
    "meta_path = f'{bucket}/data/meta_all1.tsv.bgz'\n",
    "!gsutil cp {meta_path} .\n",
    "!bgzip -d meta_all1.tsv.bgz "
   ]
  },
  {
   "cell_type": "markdown",
   "metadata": {},
   "source": [
    "# Filter data for viewing"
   ]
  },
  {
   "cell_type": "code",
   "execution_count": null,
   "metadata": {},
   "outputs": [],
   "source": [
    "meta_df = pd.read_csv(\"meta_all1.tsv\", sep=\"\\t\")\n",
    "meta_df.head()"
   ]
  },
  {
   "cell_type": "code",
   "execution_count": null,
   "metadata": {},
   "outputs": [],
   "source": [
    "meta_path = f'{bucket}/data/meta_all1_GC.tsv.bgz'\n",
    "!gsutil cp {meta_path} .\n",
    "!bgzip -d meta_all1_GC.tsv.bgz \n",
    "meta_df = pd.read_csv(\"meta_all1_GC.tsv\", sep=\"\\t\")\n",
    "meta_df.head()"
   ]
  },
  {
   "cell_type": "code",
   "execution_count": null,
   "metadata": {},
   "outputs": [],
   "source": [
    "#Create necessary columns\n",
    "import numpy as np\n",
    "\n",
    "meta_df['locus'] = meta_df['MarkerName']\n",
    "\n",
    "meta_df['MarkerName'] = meta_df['MarkerName'].str.replace(r'(_.*$)', '', regex=True)\n",
    "\n",
    "meta_df[['CHR', 'BP']] = meta_df['MarkerName'].str.split(':', expand=True)\n",
    "\n",
    "meta_df['CHR'] = meta_df['CHR'].str.replace('chr', '', regex=True)\n",
    "\n",
    "meta_df['CHR'] = pd.to_numeric(meta_df['CHR'], errors='coerce')\n",
    "\n",
    "meta_df['P'] = pd.to_numeric(meta_df['P-value'], errors='coerce')\n",
    "\n",
    "meta_df = meta_df.drop(columns=['P-value'])\n",
    "\n",
    "meta_df = meta_df[np.isfinite(meta_df['P'])]\n",
    "\n",
    "meta_df['BP'] = pd.to_numeric(meta_df['BP'], errors='coerce')\n",
    "\n",
    "\n",
    "#View\n",
    "print(meta_df.head())\n"
   ]
  },
  {
   "cell_type": "code",
   "execution_count": null,
   "metadata": {},
   "outputs": [],
   "source": [
    "#Order\n",
    "meta_df = meta_df.sort_values(by=['CHR', 'BP'])\n",
    "\n",
    "meta_df = meta_df.reset_index(drop=True)\n",
    "\n",
    "print(meta_df.head())"
   ]
  },
  {
   "cell_type": "code",
   "execution_count": null,
   "metadata": {},
   "outputs": [],
   "source": [
    "# -Log10P col\n",
    "meta_df['-log10(P)'] = -np.log10(meta_df['P'])\n",
    "print(meta_df.head())"
   ]
  },
  {
   "cell_type": "code",
   "execution_count": null,
   "metadata": {},
   "outputs": [],
   "source": [
    "# Create manhattan plot\n",
    "import matplotlib.pyplot as plt\n",
    "\n",
    "fig, ax = plt.subplots(figsize=(12, 6))\n",
    "\n",
    "colors = ['#1f77b4', '#ff7f0e']\n",
    "x_labels = []\n",
    "x_ticks = []\n",
    "\n",
    "current_x = 0\n",
    "\n",
    "# Loop through each chromosome\n",
    "for i, (chromosome, group) in enumerate(meta_df.groupby('CHR')):\n",
    "    group = group.sort_values('BP')  \n",
    "    x = current_x + np.arange(len(group))  # create x-axis pos\n",
    "    ax.scatter(x, group['-log10(P)'], c=colors[i % 2], s=2, label=f'Chr {chromosome}')\n",
    "    x_labels.append(f'Chr {chromosome}')\n",
    "    x_ticks.append(current_x + len(group) // 2)\n",
    "    current_x += len(group)\n",
    "\n",
    "genome_sig = -np.log10(5e-8)\n",
    "ax.axhline(y=genome_sig, color='red', linestyle='--', label='Genome-wide significance')\n",
    "\n",
    "# Format\n",
    "ax.set_xlabel('Chromosome')\n",
    "ax.set_ylabel('-log10(P)')\n",
    "ax.set_xticks(x_ticks)\n",
    "ax.set_xticklabels(x_labels, rotation=90)\n",
    "ax.set_title('Manhattan Plot')\n",
    "plt.tight_layout()\n",
    "\n",
    "plt.savefig('manhattan_plot.png', dpi=300)  \n",
    "plt.show()"
   ]
  },
  {
   "cell_type": "code",
   "execution_count": null,
   "metadata": {},
   "outputs": [],
   "source": [
    "import numpy as np\n",
    "import scipy.stats as stats\n",
    "\n",
    "p_values = meta_df['P']\n",
    "\n",
    "chi_squared = stats.chi2.isf(p_values, df=1)  # Converts P to chi-squared with 1 df\n",
    "\n",
    "# Calculate the genomic inflation factor (lambda_GC)\n",
    "median_chi_squared = np.median(chi_squared)\n",
    "expected_median_chi_squared = 0.455  # Expected median for 1 df\n",
    "\n",
    "lambda_gc = median_chi_squared / expected_median_chi_squared\n",
    "print(f\"Genomic Inflation Factor: {lambda_gc}\"\")"
   ]
  },
  {
   "cell_type": "code",
   "execution_count": null,
   "metadata": {},
   "outputs": [],
   "source": [
    "import numpy as np\n",
    "import matplotlib.pyplot as plt\n",
    "\n",
    "p_values = p_values[p_values > 0]\n",
    "\n",
    "observed = -np.log10(np.sort(p_values))  meta_df['-log10(P)']\n",
    "expected = -np.log10(np.linspace(1 / len(p_values), 1, len(p_values)))\n",
    "\n",
    "# Create QQ plot\n",
    "fig, ax = plt.subplots(figsize=(8, 8))\n",
    "ax.scatter(expected, observed, c='blue', s=2, label='Observed Data')\n",
    "ax.plot([0, max(expected)], [0, max(expected)], color='red', linestyle='--', label='Expected Line')\n",
    "\n",
    "# Format\n",
    "ax.set_xlabel('Expected -log10(P)')\n",
    "ax.set_ylabel('Observed -log10(P)')\n",
    "ax.set_title('QQ Plot')\n",
    "ax.legend()\n",
    "plt.tight_layout()\n",
    "\n",
    "plt.savefig('qq_plot.png', dpi=300)  # Save as a high-quality image\n",
    "plt.show()\n"
   ]
  },
  {
   "cell_type": "code",
   "execution_count": null,
   "metadata": {},
   "outputs": [],
   "source": [
    "genome_sig_threshold = 5e-8\n",
    "\n",
    "# Filter meta_df for rows with P-value less than the threshold\n",
    "significant_vars = meta_df[meta_df['P'] < genome_sig_threshold]"
   ]
  },
  {
   "cell_type": "code",
   "execution_count": null,
   "metadata": {},
   "outputs": [],
   "source": [
    "with pd.option_context('display.max_rows', None):\n",
    "    print(f\"Significant Genetic Variants: {significant_vars[['locus', 'P', 'Direction']]}\"\")"
   ]
  },
  {
   "cell_type": "markdown",
   "metadata": {},
   "source": [
    "Save to bucket if desired"
   ]
  },
  {
   "cell_type": "code",
   "execution_count": null,
   "metadata": {},
   "outputs": [],
   "source": [
    "# final_sumstats = 'final_meta_sumstats.tsv'\n",
    "# meta_df.to_csv(final_sumstats, sep='\\t', index=False)\n",
    "# meta_save_path = f'{bucket}/data/final_meta_sumstats.tsv.bgz'\n",
    "# !gsutil cp final_meta_sumstats.tsv.bgz {meta_save_path}"
   ]
  }
 ],
 "metadata": {
  "kernelspec": {
   "display_name": "Python 3",
   "language": "python",
   "name": "python3"
  },
  "language_info": {
   "codemirror_mode": {
    "name": "ipython",
    "version": 3
   },
   "file_extension": ".py",
   "mimetype": "text/x-python",
   "name": "python",
   "nbconvert_exporter": "python",
   "pygments_lexer": "ipython3",
   "version": "3.10.12"
  },
  "toc": {
   "base_numbering": 1,
   "nav_menu": {},
   "number_sections": true,
   "sideBar": true,
   "skip_h1_title": false,
   "title_cell": "Table of Contents",
   "title_sidebar": "Contents",
   "toc_cell": false,
   "toc_position": {},
   "toc_section_display": true,
   "toc_window_display": false
  }
 },
 "nbformat": 4,
 "nbformat_minor": 2
}
