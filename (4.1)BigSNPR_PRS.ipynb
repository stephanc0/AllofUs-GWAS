{
 "cells": [
  {
   "cell_type": "markdown",
   "metadata": {},
   "source": [
    "# INTRO"
   ]
  },
  {
   "cell_type": "markdown",
   "metadata": {},
   "source": [
    "**Author:** Stephan Cordogan"
   ]
  },
  {
   "cell_type": "markdown",
   "metadata": {},
   "source": [
    "This notebook is began with a Python3 kernel, Hail environment, then should be switched to R kernel, general environment, with at least 500GB of disk space and 200GB RAM. This generates PLINK files of the cohort created in notebook 1, filtered to only include variants in your summary statistics file to restrict size, and then uses the summary statistics file as well as a computed LD matrix to generate a PRS which is tested on your cohort. **Specify the desired minor allele frequency of the genotype files and the maximum tolerable frequency of unsequenced alleles [(a)](#Specify-parameters-of-PLINK-files), the name and path of your summary statistics [(b)](#Filter-by-presence-in-sumstats-to-decrease-size-of-PLINK-files) [(c)](#Load-in-Necessary-Files) [(d)](#Load-and-modify-base-summary-statistics), and the cases and controls of your summary statistics [(e)](#Enter-cases-and-controls-in-n_eff).**"
   ]
  },
  {
   "cell_type": "markdown",
   "metadata": {},
   "source": [
    "# Create necesary files"
   ]
  },
  {
   "cell_type": "markdown",
   "metadata": {},
   "source": [
    "## Import Necessary Packages "
   ]
  },
  {
   "cell_type": "code",
   "execution_count": null,
   "metadata": {},
   "outputs": [],
   "source": [
    "from datetime import datetime\n",
    "import os\n",
    "import pandas as pd\n",
    "import hail as hl\n",
    "hl.init(default_reference = \"GRCh38\")"
   ]
  },
  {
   "cell_type": "code",
   "execution_count": null,
   "metadata": {
    "execution": {
     "iopub.execute_input": "2024-04-19T15:31:41.490973Z",
     "iopub.status.busy": "2024-04-19T15:31:41.490350Z",
     "iopub.status.idle": "2024-04-19T15:31:41.495824Z",
     "shell.execute_reply": "2024-04-19T15:31:41.494697Z"
    }
   },
   "outputs": [],
   "source": [
    "# start = datetime.now()\n",
    "bucket = os.getenv('WORKSPACE_BUCKET')\n",
    "bucket"
   ]
  },
  {
   "cell_type": "code",
   "execution_count": null,
   "metadata": {},
   "outputs": [],
   "source": [
    "!gsutil ls $WORKSPACE_BUCKET/data"
   ]
  },
  {
   "cell_type": "markdown",
   "metadata": {},
   "source": [
    "## Prepare ld panel files"
   ]
  },
  {
   "cell_type": "code",
   "execution_count": null,
   "metadata": {},
   "outputs": [],
   "source": [
    "mt_path = os.getenv(\"WGS_ACAF_THRESHOLD_SPLIT_HAIL_PATH\")\n",
    "mt = hl.read_matrix_table(mt_path)"
   ]
  },
  {
   "cell_type": "code",
   "execution_count": null,
   "metadata": {},
   "outputs": [],
   "source": [
    "related_samples_path = \"gs://fc-aou-datasets-controlled/v7/wgs/short_read/snpindel/aux/relatedness/relatedness_flagged_samples.tsv\"\n",
    "related_remove = hl.import_table(related_samples_path,\n",
    "                                 types={\"sample_id\":\"tstr\"},\n",
    "                                key=\"sample_id\")\n",
    "\n",
    "#related_remove.count()\n",
    "mt = mt.anti_join_cols(related_remove)"
   ]
  },
  {
   "cell_type": "code",
   "execution_count": null,
   "metadata": {},
   "outputs": [],
   "source": [
    "phenotype_filename = f'{bucket}/data/genomics_phenotypes.tsv'\n",
    "phenotype_filename\n",
    "phenotypes = (hl.import_table(phenotype_filename,\n",
    "                              types={'person_id':hl.tstr},\n",
    "                              impute=True,\n",
    "                              key='person_id')\n",
    "             )\n",
    "mt = mt.semi_join_cols(phenotypes)\n",
    "mt = mt.annotate_cols(pheno = phenotypes[mt.s])"
   ]
  },
  {
   "cell_type": "code",
   "execution_count": null,
   "metadata": {},
   "outputs": [],
   "source": [
    "mt.describe()"
   ]
  },
  {
   "cell_type": "code",
   "execution_count": null,
   "metadata": {},
   "outputs": [],
   "source": [
    "mt.count()"
   ]
  },
  {
   "cell_type": "code",
   "execution_count": null,
   "metadata": {},
   "outputs": [],
   "source": [
    "mt = mt.annotate_cols(\n",
    "    family_id=mt.s,  \n",
    "    sample_id=mt.s,  \n",
    "    paternal_id='0',  \n",
    "    maternal_id='0',  \n",
    "    affection=hl.if_else(\n",
    "        hl.is_defined(mt.pheno.has_pheno),\n",
    "        hl.if_else(mt.pheno.has_pheno == 1, 2, 1),  \n",
    "        -9  \n",
    "    )\n",
    ") \n"
   ]
  },
  {
   "cell_type": "markdown",
   "metadata": {},
   "source": [
    "## Specify parameters of PLINK files"
   ]
  },
  {
   "cell_type": "code",
   "execution_count": null,
   "metadata": {},
   "outputs": [],
   "source": [
    "ancestry_pred_path = \"gs://fc-aou-datasets-controlled/v7/wgs/short_read/snpindel/aux/ancestry/ancestry_preds.tsv\"\n",
    "ancestry_pred = hl.import_table(ancestry_pred_path,\n",
    "                               key=\"research_id\", \n",
    "                               impute=True, \n",
    "                               types={\"research_id\":\"tstr\",\"pca_features\":hl.tarray(hl.tfloat)})\n",
    "\n",
    "mt = mt.annotate_cols(ancestry_pred = ancestry_pred[mt.s])\n",
    "\n",
    "mt = mt.filter_cols(mt.ancestry_pred.ancestry_pred == \"eur\")\n",
    "\n",
    "mt = mt.annotate_rows(info=hl.agg.call_stats(mt.GT, mt.alleles))\n",
    "\n",
    "mt = mt.filter_rows(hl.min(mt.info.AF) > .01, keep=True)\n",
    "\n",
    "print(\"MatrixTable count:\", mt.count())\n",
    "\n",
    "PRSICE2_mt = mt\n",
    "\n",
    "threshold = 0.05\n",
    "\n",
    "# Calculate proportion of missing entries per row \n",
    "PRSICE2_mt = PRSICE2_mt.annotate_rows(\n",
    "    missingness=hl.agg.mean(hl.is_missing(PRSICE2_mt.GT))  \n",
    ")\n",
    "\n",
    "PRSICE2_mt = PRSICE2_mt.filter_rows(PRSICE2_mt.missingness <= threshold)\n",
    "\n",
    "print(\"MatrixTable count:\", PRSICE2_mt.count())\n",
    "\n",
    "mt_save_path = f'{bucket}/data/PRSICE2_mt.mt'\n",
    "PRSICE2_mt.write(mt_save_path)\n"
   ]
  },
  {
   "cell_type": "code",
   "execution_count": null,
   "metadata": {},
   "outputs": [],
   "source": [
    "mt_save_path = f'{bucket}/data/PRSICE2_mt.mt'\n",
    "PRSICE2_mt = hl.read_matrix_table(mt_save_path)"
   ]
  },
  {
   "cell_type": "code",
   "execution_count": null,
   "metadata": {},
   "outputs": [],
   "source": [
    "# first_locus = PRSICE2_mt.rows().take(1)\n",
    "# print(first_locus[0].locus)"
   ]
  },
  {
   "cell_type": "code",
   "execution_count": null,
   "metadata": {},
   "outputs": [],
   "source": [
    "PRSICE2_mt.describe()"
   ]
  },
  {
   "cell_type": "markdown",
   "metadata": {},
   "source": [
    "## Filter by presence in sumstats to decrease size of PLINK files"
   ]
  },
  {
   "cell_type": "code",
   "execution_count": null,
   "metadata": {},
   "outputs": [],
   "source": [
    "log_reg_finn_path = f'{bucket}/data/processed_finn.tsv'"
   ]
  },
  {
   "cell_type": "code",
   "execution_count": null,
   "metadata": {},
   "outputs": [],
   "source": [
    "import os\n",
    "print(os.getcwd())"
   ]
  },
  {
   "cell_type": "code",
   "execution_count": null,
   "metadata": {},
   "outputs": [],
   "source": [
    "variant_table = hl.import_table(\n",
    "    log_reg_finn_path, \n",
    "    no_header=False,  \n",
    "    impute=True  \n",
    ")"
   ]
  },
  {
   "cell_type": "code",
   "execution_count": null,
   "metadata": {},
   "outputs": [],
   "source": [
    "variant_table.show(5)\n"
   ]
  },
  {
   "cell_type": "code",
   "execution_count": null,
   "metadata": {},
   "outputs": [],
   "source": [
    "# replace 23 with X\n",
    "variant_table = variant_table.annotate(\n",
    "    chrom=hl.if_else(variant_table.chrom == 23, \"X\", hl.str(variant_table.chrom))\n",
    ")\n",
    "\n"
   ]
  },
  {
   "cell_type": "code",
   "execution_count": null,
   "metadata": {},
   "outputs": [],
   "source": [
    "variant_table.show(5)"
   ]
  },
  {
   "cell_type": "markdown",
   "metadata": {},
   "source": [
    "## Annotate columns , filter for Presence in Summary statistics, write to PLINK files"
   ]
  },
  {
   "cell_type": "code",
   "execution_count": null,
   "metadata": {},
   "outputs": [],
   "source": [
    "variant_table = variant_table.rename({'locus': 'full_locus'})\n",
    "\n",
    "variant_table = variant_table.annotate(\n",
    "    locus=hl.locus('chr' + hl.str(variant_table.chrom), hl.int32(variant_table.pos), reference_genome='GRCh38')\n",
    ")\n",
    "\n",
    "variant_table = variant_table.key_by('locus', 'ref', 'alt')\n",
    "\n",
    "PRSICE2_mt = PRSICE2_mt.filter_rows(hl.len(PRSICE2_mt.alleles) == 2)\n",
    "\n",
    "PRSICE2_mt = PRSICE2_mt.annotate_cols(\n",
    "    family_id=PRSICE2_mt.family_id,     \n",
    "    sample_id=PRSICE2_mt.sample_id,     \n",
    "    paternal_id=PRSICE2_mt.paternal_id, \n",
    "    maternal_id=PRSICE2_mt.maternal_id, \n",
    "    is_female=hl.if_else(               \n",
    "        PRSICE2_mt.pheno.is_female, True,\n",
    "        hl.if_else(hl.is_defined(PRSICE2_mt.pheno.is_female), False, hl.null(hl.tbool))\n",
    "    )\n",
    ")\n",
    "\n",
    "#Filter Rows based on Presence in Variant Table\n",
    "\n",
    "PRSICE2_mt = PRSICE2_mt.filter_rows(\n",
    "    hl.is_defined(variant_table[hl.struct(\n",
    "        locus=PRSICE2_mt.locus,\n",
    "        ref=PRSICE2_mt.alleles[0],\n",
    "        alt=PRSICE2_mt.alleles[1]\n",
    "    )])\n",
    ")\n",
    "\n",
    "\n",
    "print(\"MatrixTable count:\", PRSICE2_mt.count())\n",
    "\n",
    "# PRSICE2_mt.count()\n",
    "\n",
    "output_path = f'{bucket}/data/ld_panel/ld_panel_files'\n",
    "\n",
    "hl.export_plink(\n",
    "    dataset=PRSICE2_mt,  # Use the fully re-annotated MatrixTable\n",
    "    output=output_path,\n",
    "    fam_id=PRSICE2_mt.family_id,       \n",
    "    ind_id=PRSICE2_mt.sample_id,       \n",
    "    pat_id=PRSICE2_mt.paternal_id,     \n",
    "    mat_id=PRSICE2_mt.maternal_id,     \n",
    "    is_female=PRSICE2_mt.is_female,    \n",
    "    pheno=PRSICE2_mt.affection            \n",
    ")"
   ]
  },
  {
   "cell_type": "code",
   "execution_count": null,
   "metadata": {},
   "outputs": [],
   "source": [
    "!gsutil ls {bucket}/data/ld_panel"
   ]
  },
  {
   "cell_type": "markdown",
   "metadata": {},
   "source": [
    "## Prepare covariate file with age if desired"
   ]
  },
  {
   "cell_type": "code",
   "execution_count": null,
   "metadata": {},
   "outputs": [],
   "source": [
    "cols_table = mt.cols()  # Extract the column annotations into a Table\n",
    "\n",
    "mt = mt.annotate_cols(age_yrs=mt.pheno.age_yrs)\n",
    "\n",
    "mt.describe()"
   ]
  },
  {
   "cell_type": "code",
   "execution_count": null,
   "metadata": {
    "code_folding": []
   },
   "outputs": [],
   "source": [
    "covariates_table = cols_table.select(\n",
    "    FID=cols_table['s'],  \n",
    "    IID=cols_table['s'],\n",
    "    age=cols_table['age_yrs']  \n",
    ")\n",
    "\n",
    "\n",
    "cov_save_path = f'{bucket}/data/covariates_table.tsv'\n",
    "covariates_table.export(cov_save_path)\n",
    "\n",
    "# !gsutil cp ld_panel_files.* {panel_save_path}"
   ]
  },
  {
   "cell_type": "markdown",
   "metadata": {},
   "source": [
    "# Run PRS across files"
   ]
  },
  {
   "cell_type": "markdown",
   "metadata": {},
   "source": [
    "## Switch to R Environment"
   ]
  },
  {
   "cell_type": "markdown",
   "metadata": {},
   "source": [
    "Using Instructions from https://privefl.github.io/bigsnpr-extdoc/polygenic-scores-pgs.html"
   ]
  },
  {
   "cell_type": "markdown",
   "metadata": {},
   "source": [
    "## Install Packages"
   ]
  },
  {
   "cell_type": "code",
   "execution_count": null,
   "metadata": {},
   "outputs": [],
   "source": [
    "system(\"sudo apt-get install libblas-dev liblapack-dev\")\n",
    "system(\"sudo apt-get install gfortran\")\n",
    "system(\"sudo apt-get install build-essential\")\n",
    "system(\"sudo apt-get install libcurl4-openssl-dev libssl-dev\")"
   ]
  },
  {
   "cell_type": "code",
   "execution_count": null,
   "metadata": {},
   "outputs": [],
   "source": [
    "system('dpkg -l | grep -E \"libblas-dev|liblapack-dev|gfortran|build-essential|libcurl4-openssl-dev|libssl-dev\"')"
   ]
  },
  {
   "cell_type": "code",
   "execution_count": null,
   "metadata": {},
   "outputs": [],
   "source": [
    "system('dpkg -l | grep -E \"libblas-dev|liblapack-dev|gfortran|build-essential|libcurl4-openssl-dev|libssl-dev\"', intern = TRUE)"
   ]
  },
  {
   "cell_type": "code",
   "execution_count": null,
   "metadata": {},
   "outputs": [],
   "source": [
    "install.packages(\"bigsnpr\", verbose = TRUE)"
   ]
  },
  {
   "cell_type": "code",
   "execution_count": null,
   "metadata": {},
   "outputs": [],
   "source": [
    "library(bigsnpr)"
   ]
  },
  {
   "cell_type": "markdown",
   "metadata": {},
   "source": [
    "## Load in Necessary Files"
   ]
  },
  {
   "cell_type": "code",
   "execution_count": null,
   "metadata": {},
   "outputs": [],
   "source": [
    "system(\"gsutil cp gs://fc-secure-f8b6c774-d7fc-411b-90cf-bc425b194d81/data/processed_finn.tsv .\")\n",
    "system(\"gsutil cp -r gs://fc-secure-f8b6c774-d7fc-411b-90cf-bc425b194d81/data/ld_panel/ .\")\n",
    "system(\"gsutil cp -r gs://fc-secure-f8b6c774-d7fc-411b-90cf-bc425b194d81/data/covariates_table.tsv .\")"
   ]
  },
  {
   "cell_type": "markdown",
   "metadata": {},
   "source": [
    "## Begin workflow"
   ]
  },
  {
   "cell_type": "markdown",
   "metadata": {},
   "source": [
    "### Designate components of target files"
   ]
  },
  {
   "cell_type": "code",
   "execution_count": null,
   "metadata": {},
   "outputs": [],
   "source": [
    "bigparallelr::set_blas_ncores(1)\n",
    "options(bigstatsr.check.parallel.blas = FALSE)\n",
    "NCORES <- nb_cores()"
   ]
  },
  {
   "cell_type": "code",
   "execution_count": null,
   "metadata": {},
   "outputs": [],
   "source": [
    "bedfile <- \"ld_panel/ld_panel_files.bed\"  \n",
    "\n",
    "rdsfile <- \"ld_panel/ld_panel_files.rds\"\n",
    "\n",
    "if (!file.exists(rdsfile)) {\n",
    "  rdsfile <- snp_readBed2(bedfile, ncores = NCORES)\n",
    "}\n",
    "\n",
    "# Attach the .rds file\n",
    "obj.bigsnp <- snp_attach(rdsfile)\n",
    "\n",
    "# View the structure\n",
    "str(obj.bigsnp, max.level = 2)\n",
    "\n",
    "# Access components\n",
    "G <- obj.bigsnp$genotypes    # Genotype matrix\n",
    "map <- obj.bigsnp$map        # Variant information\n",
    "fam <- obj.bigsnp$fam  "
   ]
  },
  {
   "cell_type": "code",
   "execution_count": null,
   "metadata": {},
   "outputs": [],
   "source": [
    "# NCORES <- nb_cores()\n",
    "map <- dplyr::transmute(obj.bigsnp$map,\n",
    "                        chr = chromosome, pos = physical.pos,\n",
    "                        a0 = allele2, a1 = allele1)"
   ]
  },
  {
   "cell_type": "markdown",
   "metadata": {},
   "source": [
    "### Load and modify base summary statistics"
   ]
  },
  {
   "cell_type": "code",
   "execution_count": null,
   "metadata": {},
   "outputs": [],
   "source": [
    "# file_path <- \"finn_formatted_sumstats.tsv\"\n",
    "file_path <- \"processed_finn.tsv\"\n",
    "\n",
    "readLines(file_path, n = 3)\n",
    "\n",
    "# modify relevant columns\n",
    "sumstats <- bigreadr::fread2(\n",
    "  file_path,\n",
    "  sep = \"\\t\",  \n",
    "  select    = c(\"chrom\", \"pos\", \"ref\", \"alt\", \"beta\", \"standard_error\", \"af_alt_arthro\"), #These columns are renamed below\n",
    "  col.names = c(\"chr\", \"pos\", \"a0\", \"a1\", \"beta\", \"beta_se\", \"freq\")       \n",
    ")\n",
    "\n",
    "head(sumstats)"
   ]
  },
  {
   "cell_type": "markdown",
   "metadata": {},
   "source": [
    "### Optionally, filter for p-value"
   ]
  },
  {
   "cell_type": "markdown",
   "metadata": {},
   "source": [
    "Computations scale exponentially with number of SNPs"
   ]
  },
  {
   "cell_type": "code",
   "execution_count": null,
   "metadata": {},
   "outputs": [],
   "source": [
    "# sumstats_old <- sumstats\n",
    "\n",
    "sumstats$p_value <- 2 * pnorm(-abs(sumstats$beta / sumstats$beta_se))\n",
    "\n",
    "sumstats$chi_squared <- (sumstats$beta / sumstats$beta_se)^2\n",
    "\n",
    "median_obs <- median(sumstats$chi_squared, na.rm = TRUE)\n",
    "\n",
    "expected_median <- qchisq(0.5, df = 1)\n",
    "\n",
    "lambda_gc <- median_obs / expected_median\n",
    "\n",
    "print(lambda_gc)\n",
    "\n",
    "# Filter the dataset to keep only rows with desired characteristics\n",
    "# sumstats <- sumstats[sumstats$p_value <= 0.25, ]\n",
    "sumstats <- sumstats[sumstats$freq >= 0.01, ]\n",
    "\n"
   ]
  },
  {
   "cell_type": "code",
   "execution_count": null,
   "metadata": {},
   "outputs": [],
   "source": [
    "# Check the first few rows of the filtered dataset\n",
    "sumstats <- subset(sumstats, select = -p_value)\n",
    "\n",
    "head(sumstats)"
   ]
  },
  {
   "cell_type": "code",
   "execution_count": null,
   "metadata": {},
   "outputs": [],
   "source": [
    "nrow(sumstats)"
   ]
  },
  {
   "cell_type": "markdown",
   "metadata": {},
   "source": [
    "### Enter cases and controls in n_eff"
   ]
  },
  {
   "cell_type": "code",
   "execution_count": null,
   "metadata": {},
   "outputs": [],
   "source": [
    "calculate_effective_sample_size <- function(cases, controls) {\n",
    "  if (!is.numeric(cases) || !is.numeric(controls)) {\n",
    "    stop(\"Both cases and controls must be numeric.\")\n",
    "  }\n",
    "    n_eff <- 4 / (1 / cases + 1 / controls)\n",
    "  return(n_eff)\n",
    "}\n",
    "\n",
    "cases <- 31840\n",
    "controls <- 468508\n",
    "\n",
    "n_eff <- calculate_effective_sample_size(cases, controls)\n",
    "\n",
    "sumstats$n_eff <- n_eff "
   ]
  },
  {
   "cell_type": "code",
   "execution_count": null,
   "metadata": {},
   "outputs": [],
   "source": [
    "library(dplyr)  # Load the dplyr package for %>%"
   ]
  },
  {
   "cell_type": "code",
   "execution_count": null,
   "metadata": {},
   "outputs": [],
   "source": [
    "map <- map %>%\n",
    "  mutate(chr = case_when(\n",
    "    chr == \"chrX\" ~ \"chr23\",\n",
    "    chr == \"chrY\" ~ NA_character_,  # mark 'chrY' as NA to filter it out later\n",
    "    TRUE ~ chr  # Keep other chromosomes as-is\n",
    "  )) %>%\n",
    "  filter(!is.na(chr)) %>%  # Remove rows with NA in 'chr'\n",
    "  mutate(chr = as.integer(gsub(\"chr\", \"\", chr)))"
   ]
  },
  {
   "cell_type": "code",
   "execution_count": null,
   "metadata": {},
   "outputs": [],
   "source": [
    "unique(map$chr)\n"
   ]
  },
  {
   "cell_type": "markdown",
   "metadata": {},
   "source": [
    "### Match SNPs between both files"
   ]
  },
  {
   "cell_type": "code",
   "execution_count": null,
   "metadata": {},
   "outputs": [],
   "source": [
    "#info_snp <- snp_match(sumstats, map, return_flip_and_rev = TRUE) %>% \n",
    "#  mutate(freq = ifelse(`_REV_`, 1 - freq, freq), \n",
    "#         `_REV_` = NULL, `_FLIP_`= NULL) %>% \n",
    "#  print()\n",
    "\n",
    "# Match summary statistics to genetic map without flipping or frequency operations\n",
    "df_beta <- snp_match(sumstats, map, return_flip_and_rev = FALSE)"
   ]
  },
  {
   "cell_type": "code",
   "execution_count": null,
   "metadata": {},
   "outputs": [],
   "source": [
    "unique(df_beta$chr)"
   ]
  },
  {
   "cell_type": "code",
   "execution_count": null,
   "metadata": {},
   "outputs": [],
   "source": [
    "# df_beta = df_beta1"
   ]
  },
  {
   "cell_type": "code",
   "execution_count": null,
   "metadata": {},
   "outputs": [],
   "source": [
    "install.packages(\"R.utils\")\n",
    "library(R.utils)"
   ]
  },
  {
   "cell_type": "code",
   "execution_count": null,
   "metadata": {},
   "outputs": [],
   "source": [
    "map <- map[!is.na(map$chr), ]\n",
    "df_beta <- df_beta[!is.na(df_beta$chr), ]"
   ]
  },
  {
   "cell_type": "code",
   "execution_count": null,
   "metadata": {},
   "outputs": [],
   "source": [
    "map_has_na <- any(is.na(map))\n",
    "cat(\"NAs in map\", map_has_na, \"\\n\")\n",
    "df_beta_has_na <- any(is.na(df_beta))\n",
    "cat(\"NAs in df_beta\", df_beta_has_na, \"\\n\")"
   ]
  },
  {
   "cell_type": "code",
   "execution_count": null,
   "metadata": {},
   "outputs": [],
   "source": [
    "head(map)\n",
    "head(sumstats)\n"
   ]
  },
  {
   "cell_type": "code",
   "execution_count": null,
   "metadata": {},
   "outputs": [],
   "source": [
    "dir.create(\"tmp-data\", showWarnings = FALSE)\n"
   ]
  },
  {
   "cell_type": "markdown",
   "metadata": {},
   "source": [
    "### Reconfigure environment for better deliberate parallelization"
   ]
  },
  {
   "cell_type": "code",
   "execution_count": null,
   "metadata": {},
   "outputs": [],
   "source": [
    "G <- snp_fastImputeSimple(G, method = \"mean2\", ncores = 8)"
   ]
  },
  {
   "cell_type": "code",
   "execution_count": null,
   "metadata": {},
   "outputs": [],
   "source": [
    "# df_beta1 <-df_beta"
   ]
  },
  {
   "cell_type": "code",
   "execution_count": null,
   "metadata": {},
   "outputs": [],
   "source": [
    "# Precomputed genetic positions (in cM) to avoid downloading large files in this tuto\n",
    "gen_pos <- readRDS(runonce::download_file(\n",
    "  \"https://figshare.com/ndownloader/files/38247288\",\n",
    "  dir = \"tmp-data\", fname = \"gen_pos_tuto.rds\"))\n",
    "\n",
    "df_beta1 <- dplyr::filter(df_beta, chr %in% 1:22)  # TO REMOVE (for speed here)\n",
    "\n",
    "for (chr in 1:22) {  # REPLACE BY 1:22\n",
    "    \n",
    "  print(chr)\n",
    "  \n",
    "  corr0 <- runonce::save_run({\n",
    "    \n",
    "    ## indices in 'sumstats'\n",
    "    ind.chr <- which(df_beta1$chr == chr)\n",
    "    ## indices in 'G'\n",
    "    ind.chr2 <- df_beta1$`_NUM_ID_`[ind.chr]\n",
    "    \n",
    "    # genetic positions (in cM)\n",
    "    POS2 <- snp_asGeneticPos(map$chr[ind.chr2], map$pos[ind.chr2], dir = \"tmp-data\")\n",
    "#     POS2 <- gen_pos[ind.chr2]  # USE snp_asGeneticPos() IN REAL CODE\n",
    "    \n",
    "    # compute the banded correlation matrix in sparse matrix format\n",
    "    snp_cor(G, ind.col = ind.chr2, size = 3 / 1000, infos.pos = POS2, \n",
    "            ncores = NCORES)\n",
    "    \n",
    "  }, file = paste0(\"tmp-data/corr_chr\", chr, \".rds\"))\n",
    "    \n",
    "  # transform to SFBM (on-disk format) on the fly\n",
    "  if (chr == 1) {\n",
    "    ld <- Matrix::colSums(corr0^2)\n",
    "    corr <- as_SFBM(corr0, \"tmp-data/corr\", compact = TRUE)\n",
    "  } else {\n",
    "    ld <- c(ld, Matrix::colSums(corr0^2))\n",
    "    corr$add_columns(corr0, nrow(corr))\n",
    "  }\n",
    "}"
   ]
  },
  {
   "cell_type": "code",
   "execution_count": null,
   "metadata": {},
   "outputs": [],
   "source": [
    "print(dim(corr))\n",
    "print(nrow(df_beta1))"
   ]
  },
  {
   "cell_type": "code",
   "execution_count": null,
   "metadata": {},
   "outputs": [],
   "source": [
    "summary(ld)  \n",
    "head(ld)     \n",
    "length(ld)   "
   ]
  },
  {
   "cell_type": "markdown",
   "metadata": {},
   "source": [
    "### Heritability Estimate"
   ]
  },
  {
   "cell_type": "code",
   "execution_count": null,
   "metadata": {},
   "outputs": [],
   "source": [
    "(ldsc <- with(df_beta1, snp_ldsc(ld, length(ld), chi2 = (beta / beta_se)^2,\n",
    "                                 sample_size = n_eff, blocks = NULL)))"
   ]
  },
  {
   "cell_type": "code",
   "execution_count": null,
   "metadata": {},
   "outputs": [],
   "source": [
    "ldsc_h2_est <- ldsc[[\"h2\"]]"
   ]
  },
  {
   "cell_type": "code",
   "execution_count": null,
   "metadata": {},
   "outputs": [],
   "source": [
    "colnames(obj.bigsnp$fam)"
   ]
  },
  {
   "cell_type": "code",
   "execution_count": null,
   "metadata": {},
   "outputs": [],
   "source": [
    "obj.bigsnp$fam$affection <- ifelse(obj.bigsnp$fam$affection == 2, 1, 0)\n",
    "obj.bigsnp$fam$sex <- ifelse(obj.bigsnp$fam$sex == 2, 1, 0)"
   ]
  },
  {
   "cell_type": "code",
   "execution_count": null,
   "metadata": {},
   "outputs": [],
   "source": [
    "unique(obj.bigsnp$fam$sex)       \n",
    "unique(obj.bigsnp$fam$affection)      "
   ]
  },
  {
   "cell_type": "markdown",
   "metadata": {},
   "source": [
    "### Run PRS"
   ]
  },
  {
   "cell_type": "code",
   "execution_count": null,
   "metadata": {},
   "outputs": [],
   "source": [
    "# LDpred2-inf\n",
    "beta_inf <- snp_ldpred2_inf(corr, df_beta1, ldsc_h2_est)\n",
    "# Predict genetic values\n",
    "pred_inf <- big_prodVec(G, beta_inf, ind.col = df_beta1$`_NUM_ID_`)\n",
    "AUCBoot(pred_inf, obj.bigsnp$fam$affection)"
   ]
  },
  {
   "cell_type": "code",
   "execution_count": null,
   "metadata": {},
   "outputs": [],
   "source": [
    "ldsc_h2_est <- 0.05"
   ]
  },
  {
   "cell_type": "code",
   "execution_count": null,
   "metadata": {},
   "outputs": [],
   "source": [
    "(params <- expand.grid(p = signif(seq_log(1e-4, 0.5, length.out = 16), 2),\n",
    "                       h2 = round(ldsc_h2_est, 4), sparse = TRUE))"
   ]
  },
  {
   "cell_type": "code",
   "execution_count": null,
   "metadata": {},
   "outputs": [],
   "source": [
    "beta_grid <- snp_ldpred2_grid(corr, df_beta1, params, ncores = NCORES)\n",
    "params$sparsity <- colMeans(beta_grid == 0)"
   ]
  },
  {
   "cell_type": "code",
   "execution_count": null,
   "metadata": {},
   "outputs": [],
   "source": [
    "library(ggplot2)"
   ]
  },
  {
   "cell_type": "code",
   "execution_count": null,
   "metadata": {},
   "outputs": [],
   "source": [
    "pred_grid <- big_prodMat(G, beta_grid, ind.col = df_beta1[[\"_NUM_ID_\"]],\n",
    "                         ncores = NCORES)\n",
    "\n",
    "params$score <- apply(pred_grid, 2, function(x) {\n",
    "  if (all(is.na(x))) return(NA)  # models that diverged substantially\n",
    "  summary(glm(\n",
    "    affection ~ x + sex, data = obj.bigsnp$fam, family = \"binomial\"\n",
    "  ))$coef[\"x\", 3]\n",
    "})\n",
    "\n",
    "ggplot(params, aes(x = p, y = score, color = as.factor(h2))) +\n",
    "  theme_bigstatsr() +\n",
    "  geom_point() +\n",
    "  geom_line() +\n",
    "  scale_x_log10(breaks = 10^(-5:0), minor_breaks = params$p) +\n",
    "  facet_wrap(~ sparse, labeller = label_both) +\n",
    "  labs(y = \"GLM Z-Score\", color = \"h2\") +\n",
    "  theme(legend.position = \"top\", panel.spacing = unit(1, \"lines\"))"
   ]
  },
  {
   "cell_type": "code",
   "execution_count": null,
   "metadata": {},
   "outputs": [],
   "source": [
    "library(dplyr)\n",
    "best_beta_grid <- params %>%\n",
    "  mutate(id = row_number()) %>%\n",
    "  arrange(desc(score)) %>%\n",
    "  slice(1) %>%\n",
    "  pull(id) %>%\n",
    "  beta_grid[, .]"
   ]
  },
  {
   "cell_type": "code",
   "execution_count": null,
   "metadata": {},
   "outputs": [],
   "source": [
    "# LDpred2-auto\n",
    "multi_auto <- snp_ldpred2_auto(\n",
    "  corr, df_beta1, h2_init = ldsc_h2_est,\n",
    "  vec_p_init = seq_log(1e-4, 0.2, 30),        \n",
    "  allow_jump_sign = FALSE,\n",
    "  shrink_corr = 0.95,\n",
    "  ncores = NCORES)"
   ]
  },
  {
   "cell_type": "code",
   "execution_count": null,
   "metadata": {},
   "outputs": [],
   "source": [
    "# `range` should be between 0 and 2\n",
    "(range <- sapply(multi_auto, function(auto) diff(range(auto$corr_est))))"
   ]
  },
  {
   "cell_type": "code",
   "execution_count": null,
   "metadata": {},
   "outputs": [],
   "source": [
    "(keep <- (range > (0.95 * quantile(range, 0.95))))"
   ]
  },
  {
   "cell_type": "code",
   "execution_count": null,
   "metadata": {},
   "outputs": [],
   "source": [
    "final_beta_auto <- \n",
    "  rowMeans(sapply(multi_auto[keep], function(auto) auto$beta_est))"
   ]
  },
  {
   "cell_type": "code",
   "execution_count": null,
   "metadata": {},
   "outputs": [],
   "source": [
    "final_pred_auto <- big_prodVec(G, final_beta_auto,\n",
    "                               ind.col = df_beta1[[\"_NUM_ID_\"]],\n",
    "                               ncores = NCORES)\n",
    "AUCBoot(final_pred_auto, obj.bigsnp$fam$affection)"
   ]
  },
  {
   "cell_type": "code",
   "execution_count": null,
   "metadata": {},
   "outputs": [],
   "source": [
    "str(final_beta_auto)"
   ]
  },
  {
   "cell_type": "code",
   "execution_count": null,
   "metadata": {},
   "outputs": [],
   "source": [
    "library(ggplot2)\n",
    "\n",
    "prs_data_unstd <- data.frame(\n",
    "  PRS = final_pred_auto,\n",
    "  Status = ifelse(obj.bigsnp$fam$affection == 1, \"Cases\", \"Controls\")  # 1 for cases, 0 for controls\n",
    ")\n",
    "\n",
    "# Standardize PRS\n",
    "prs_data <- prs_data_unstd %>%\n",
    "  mutate(Standardized_PRS = scale(PRS))\n",
    "\n",
    "mean_cases <- mean(prs_data$Standardized_PRS[prs_data$Status == \"Cases\"])\n",
    "mean_controls <- mean(prs_data$Standardized_PRS[prs_data$Status == \"Controls\"])\n",
    "\n",
    "# Plot \n",
    "p <- ggplot(prs_data, aes(x = Standardized_PRS, fill = Status)) +\n",
    "  geom_density(alpha = 0.6) +  \n",
    "  scale_fill_manual(values = c(\"Cases\" = \"blue\", \"Controls\" = \"yellow\")) +\n",
    "  labs(\n",
    "    title = \"Distribution of Polygenic Risk Scores for Cases and Controls\",\n",
    "    x = \"Standardized PRS\",\n",
    "    y = \"Density\"\n",
    "  ) +\n",
    "  theme_minimal() +\n",
    "  theme(\n",
    "    legend.title = element_blank(),\n",
    "    text = element_text(size = 12),\n",
    "    plot.background = element_rect(fill = \"white\", color = NA),  # Set background to white\n",
    "    panel.background = element_rect(fill = \"white\", color = NA) # Set panel background to white\n",
    "  ) +\n",
    "  geom_vline(xintercept = mean_cases, color = \"blue\", linetype = \"dashed\", size = 1) +\n",
    "  geom_vline(xintercept = mean_controls, color = \"yellow\", linetype = \"dashed\", size = 1) +\n",
    "  annotate(\"text\", x = 2, y = 0.4, label = \"P < 0.05\", size = 5, color = \"black\", hjust = 1.1)\n",
    "\n",
    "print(p)\n",
    "ggsave(\"prs_density_plot.png\", plot = p, width = 8, height = 6, dpi = 300)"
   ]
  },
  {
   "cell_type": "markdown",
   "metadata": {},
   "source": [
    "Examine a portion of data"
   ]
  },
  {
   "cell_type": "code",
   "execution_count": null,
   "metadata": {},
   "outputs": [],
   "source": [
    "# filtered_snps_chr6 <- subset(\n",
    "#   used_snps,\n",
    "#   chr == 6 & pos >= 56000000 & pos <= 57000000\n",
    "# )\n",
    "\n",
    "# print(filtered_snps_chr6)"
   ]
  },
  {
   "cell_type": "markdown",
   "metadata": {},
   "source": [
    "OR per SD Increase"
   ]
  },
  {
   "cell_type": "code",
   "execution_count": null,
   "metadata": {},
   "outputs": [],
   "source": [
    "#Standardize PRS by SD\n",
    "prs_std <- final_pred_auto / sd(final_pred_auto)\n",
    "#Run Regression\n",
    "model <- glm(obj.bigsnp$fam$affection ~ prs_std, family = \"binomial\")\n",
    "summary(model)\n",
    "#Compute OR per SD increase\n",
    "or_per_sd <- exp(coef(model)[\"prs_std\"])\n",
    "or_per_sd\n",
    "#Compute CI for OR\n",
    "ci_per_sd <- exp(confint(model)[\"prs_std\", ])\n",
    "ci_per_sd"
   ]
  },
  {
   "cell_type": "markdown",
   "metadata": {},
   "source": [
    "Save files"
   ]
  },
  {
   "cell_type": "code",
   "execution_count": null,
   "metadata": {},
   "outputs": [],
   "source": [
    "write.table(prs_data_unstd, file = \"prs_data.tsv\", sep = \"\\t\", row.names = FALSE, col.names = TRUE, quote = FALSE)\n",
    "bucket <- Sys.getenv(\"WORKSPACE_BUCKET\") \n",
    "meta_save_path <- paste0(bucket, \"/data/prs_data.tsv\")\n",
    "system(paste(\"gsutil cp prs_data.tsv\", meta_save_path))"
   ]
  },
  {
   "cell_type": "code",
   "execution_count": null,
   "metadata": {},
   "outputs": [],
   "source": [
    "valid_df_beta <- df_beta1[!is.na(df_beta1[[\"_NUM_ID_\"]]), ]\n",
    "valid_df_beta$final_beta <- final_beta_auto\n",
    "used_snps <- valid_df_beta[, c(\"chr\", \"pos\", \"a0\", \"a1\", \"final_beta\")]\n",
    "used_snps <- used_snps[used_snps$final_beta != 0, ]\n",
    "used_snps <- na.omit(used_snps)\n",
    "nrow(used_snps)"
   ]
  },
  {
   "cell_type": "code",
   "execution_count": null,
   "metadata": {},
   "outputs": [],
   "source": [
    "head(used_snps)"
   ]
  },
  {
   "cell_type": "code",
   "execution_count": null,
   "metadata": {},
   "outputs": [],
   "source": [
    "write.table(used_snps, file = \"used_snps_with_weights.txt\", sep = \"\\t\", row.names = FALSE, quote = FALSE)\n",
    "system(\"gzip -9 used_snps_with_weights.txt\")"
   ]
  },
  {
   "cell_type": "markdown",
   "metadata": {},
   "source": [
    "## Lassosum2"
   ]
  },
  {
   "cell_type": "code",
   "execution_count": null,
   "metadata": {},
   "outputs": [],
   "source": [
    "beta_lassosum2 <- snp_lassosum2(\n",
    "  corr, df_beta1, ncores = NCORES)"
   ]
  },
  {
   "cell_type": "code",
   "execution_count": null,
   "metadata": {},
   "outputs": [],
   "source": [
    "pred_grid2 <- big_prodMat(G, beta_lassosum2, ind.col = df_beta1[[\"_NUM_ID_\"]],\n",
    "                          ncores = NCORES)\n",
    "\n",
    "params2 <- attr(beta_lassosum2, \"grid_param\")\n",
    "params2$score <- apply(pred_grid2, 2, function(x) {\n",
    "  if (all(is.na(x))) return(NA)  # models that diverged substantially\n",
    "  summary(glm(\n",
    "    affection ~ x + sex, data = obj.bigsnp$fam, family = \"binomial\"\n",
    "  ))$coef[\"x\", 3]\n",
    "})\n",
    "\n",
    "ggplot(params2, aes(x = lambda, y = score, color = as.factor(delta))) +\n",
    "  theme_bigstatsr() +\n",
    "  geom_point() +\n",
    "  geom_line() +\n",
    "  scale_x_log10(breaks = 10^(-5:0)) +\n",
    "  labs(y = \"GLM Z-Score\", color = \"delta\")"
   ]
  },
  {
   "cell_type": "code",
   "execution_count": null,
   "metadata": {},
   "outputs": [],
   "source": [
    "best_grid_lassosum2 <- params2 %>%\n",
    "  mutate(id = row_number()) %>%\n",
    "  arrange(desc(score)) %>%\n",
    "  slice(1) %>%\n",
    "  pull(id) %>% \n",
    "  beta_lassosum2[, .]"
   ]
  },
  {
   "cell_type": "code",
   "execution_count": null,
   "metadata": {},
   "outputs": [],
   "source": [
    "best_pred_lassosum2 <- big_prodVec(\n",
    "  G, \n",
    "  best_grid_lassosum2, \n",
    "  ind.col = df_beta1[[\"_NUM_ID_\"]], \n",
    "  ncores = NCORES\n",
    ")\n",
    "\n",
    "AUCBoot(best_pred_lassosum2, obj.bigsnp$fam$affection)"
   ]
  },
  {
   "cell_type": "code",
   "execution_count": null,
   "metadata": {},
   "outputs": [],
   "source": [
    "prs_data_unstd <- data.frame(\n",
    "  PRS = best_pred_lassosum2,\n",
    "  Status = ifelse(obj.bigsnp$fam$affection == 1, \"Cases\", \"Controls\")  # 1 for cases, 0 for controls\n",
    ")\n",
    "\n",
    "# Standardize PRS\n",
    "prs_data <- prs_data_unstd %>%\n",
    "  mutate(Standardized_PRS = scale(PRS))\n",
    "\n",
    "mean_cases <- mean(prs_data$Standardized_PRS[prs_data$Status == \"Cases\"])\n",
    "mean_controls <- mean(prs_data$Standardized_PRS[prs_data$Status == \"Controls\"])\n",
    "\n",
    "# Plot \n",
    "p <- ggplot(prs_data, aes(x = Standardized_PRS, fill = Status)) +\n",
    "  geom_density(alpha = 0.6) +  \n",
    "  scale_fill_manual(values = c(\"Cases\" = \"blue\", \"Controls\" = \"yellow\")) +\n",
    "  labs(\n",
    "    title = \"Distribution of Polygenic Risk Scores for Cases and Controls\",\n",
    "    x = \"Standardized PRS\",\n",
    "    y = \"Density\"\n",
    "  ) +\n",
    "  theme_minimal() +\n",
    "  theme(\n",
    "    legend.title = element_blank(),\n",
    "    text = element_text(size = 12),\n",
    "    plot.background = element_rect(fill = \"white\", color = NA),  # Set background to white\n",
    "    panel.background = element_rect(fill = \"white\", color = NA) # Set panel background to white\n",
    "  ) +\n",
    "  geom_vline(xintercept = mean_cases, color = \"blue\", linetype = \"dashed\", size = 1) +\n",
    "  geom_vline(xintercept = mean_controls, color = \"yellow\", linetype = \"dashed\", size = 1) +\n",
    "  annotate(\"text\", x = 2, y = 0.4, label = \"P < 0.05\", size = 5, color = \"black\", hjust = 1.1)\n",
    "\n",
    "print(p)\n",
    "ggsave(\"prs_density_plot.png\", plot = p, width = 8, height = 6, dpi = 300)"
   ]
  },
  {
   "cell_type": "code",
   "execution_count": null,
   "metadata": {},
   "outputs": [],
   "source": [
    "#Standardize PRS by SD\n",
    "prs_std <- best_pred_lassosum2 / sd(best_pred_lassosum2)\n",
    "#Run Regression\n",
    "model <- glm(obj.bigsnp$fam$affection ~ prs_std, family = \"binomial\")\n",
    "summary(model)\n",
    "#Compute OR per SD increase\n",
    "or_per_sd <- exp(coef(model)[\"prs_std\"])\n",
    "or_per_sd\n",
    "#Compute CI for OR\n",
    "ci_per_sd <- exp(confint(model)[\"prs_std\", ])\n",
    "ci_per_sd"
   ]
  },
  {
   "cell_type": "code",
   "execution_count": null,
   "metadata": {},
   "outputs": [],
   "source": [
    "write.table(prs_data_unstd, file = \"prs_data_lasso.tsv\", sep = \"\\t\", row.names = FALSE, col.names = TRUE, quote = FALSE)\n",
    "bucket <- Sys.getenv(\"WORKSPACE_BUCKET\") \n",
    "meta_save_path <- paste0(bucket, \"/data/prs_data_lasso.tsv\")\n",
    "system(paste(\"gsutil cp prs_data_lasso.tsv\", meta_save_path))"
   ]
  },
  {
   "cell_type": "code",
   "execution_count": null,
   "metadata": {},
   "outputs": [],
   "source": [
    "valid_df_beta <- df_beta1[!is.na(df_beta1[[\"_NUM_ID_\"]]), ]\n",
    "valid_df_beta$final_beta <- best_grid_lassosum2\n",
    "used_snps <- valid_df_beta[, c(\"chr\", \"pos\", \"a0\", \"a1\", \"final_beta\")]\n",
    "used_snps <- used_snps[used_snps$final_beta != 0, ]\n",
    "used_snps <- na.omit(used_snps)\n",
    "nrow(used_snps)"
   ]
  },
  {
   "cell_type": "code",
   "execution_count": null,
   "metadata": {},
   "outputs": [],
   "source": [
    "head(used_snps)"
   ]
  },
  {
   "cell_type": "code",
   "execution_count": null,
   "metadata": {},
   "outputs": [],
   "source": [
    "write.table(used_snps, file = \"used_snps_with_weights_lasso.txt\", sep = \"\\t\", row.names = FALSE, quote = FALSE)\n",
    "system(\"gzip -9 used_snps_with_weights_lasso.txt\")"
   ]
  }
 ],
 "metadata": {
  "kernelspec": {
   "display_name": "R",
   "language": "R",
   "name": "ir"
  },
  "language_info": {
   "codemirror_mode": "r",
   "file_extension": ".r",
   "mimetype": "text/x-r-source",
   "name": "R",
   "pygments_lexer": "r",
   "version": "4.4.0"
  },
  "toc": {
   "base_numbering": 1,
   "nav_menu": {},
   "number_sections": true,
   "sideBar": true,
   "skip_h1_title": false,
   "title_cell": "Table of Contents",
   "title_sidebar": "Contents",
   "toc_cell": false,
   "toc_position": {},
   "toc_section_display": true,
   "toc_window_display": false
  }
 },
 "nbformat": 4,
 "nbformat_minor": 2
}
