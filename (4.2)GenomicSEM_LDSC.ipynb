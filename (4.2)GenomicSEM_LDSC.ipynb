{
 "cells": [
  {
   "cell_type": "markdown",
   "metadata": {},
   "source": [
    "# INTRO"
   ]
  },
  {
   "cell_type": "markdown",
   "metadata": {},
   "source": [
    "**Author:** Stephan Cordogan"
   ]
  },
  {
   "cell_type": "markdown",
   "metadata": {},
   "source": [
    "This notebook uses GenomicSEM to perform LDSC between two Finngen Summary Statistics files [(a)](#Download-Finngen-Summary-Statistics), or between modified Finngen Summary Statistics [(b)](#Prepare-Modified-Finngen-File-if-desired) (notebook 5), or AllofUs summary statistics [(c)](#Prepare-Modified-AllofUs-European-file-if-desired) (Notebook 2.12), or AllofUs meta-analyzed summary statistics [(d)](#Prepare-Modified-AllofUs-Meta-Analysis-file-if-desired) (Notebook 2.12).  **Enter file names and other paramaters in when prompted** [(a)](#Download-and-Prepare-Necessary-Files).  Using LDSC directly is not possible on the AllofUs Researcher Workbench as it does not support the necessary python environment, but can be performed locally."
   ]
  },
  {
   "cell_type": "markdown",
   "metadata": {},
   "source": [
    "# Install necessary packages"
   ]
  },
  {
   "cell_type": "code",
   "execution_count": null,
   "metadata": {},
   "outputs": [],
   "source": [
    "install.packages(\"devtools\")\n",
    "library(devtools)\n",
    "install_github(\"GenomicSEM/GenomicSEM\")"
   ]
  },
  {
   "cell_type": "code",
   "execution_count": null,
   "metadata": {},
   "outputs": [],
   "source": [
    "require(GenomicSEM)"
   ]
  },
  {
   "cell_type": "code",
   "execution_count": null,
   "metadata": {},
   "outputs": [],
   "source": [
    "Sys.setenv(OPENBLAS_NUM_THREADS = 1)\n",
    "Sys.setenv(OMP_NUM_THREADS = 1)\n",
    "Sys.setenv(MKL_NUM_THREADS = 1)\n",
    "Sys.setenv(NUMEXPR_NUM_THREADS = 1)\n",
    "Sys.setenv(VECLIB_MAXIMUM_THREADS = 1)"
   ]
  },
  {
   "cell_type": "code",
   "execution_count": null,
   "metadata": {},
   "outputs": [],
   "source": [
    "library(data.table)"
   ]
  },
  {
   "cell_type": "markdown",
   "metadata": {},
   "source": [
    "# Download and Prepare Necessary Files"
   ]
  },
  {
   "cell_type": "markdown",
   "metadata": {},
   "source": [
    "## Download Finngen Summary Statistics"
   ]
  },
  {
   "cell_type": "markdown",
   "metadata": {},
   "source": [
    "Sample summary statistics"
   ]
  },
  {
   "cell_type": "code",
   "execution_count": null,
   "metadata": {},
   "outputs": [],
   "source": [
    "system(\"gsutil cp gs://finngen-public-data-r12/summary_stats/release/finngen_R12_M13_MENISCUSDERANGEMENTS.gz .\")\n",
    "system(\"gsutil cp gs://finngen-public-data-r12/summary_stats/release/finngen_R12_M13_ARTHROPATHIES.gz .\")"
   ]
  },
  {
   "cell_type": "code",
   "execution_count": null,
   "metadata": {},
   "outputs": [],
   "source": [
    "system(\"gsutil cp gs://finngen-public-data-r12/summary_stats/release/finngen_R12_BMI_IRN.gz .\")"
   ]
  },
  {
   "cell_type": "markdown",
   "metadata": {},
   "source": [
    "## Download SNP list per author reccomendation"
   ]
  },
  {
   "cell_type": "code",
   "execution_count": null,
   "metadata": {},
   "outputs": [],
   "source": [
    "url <- \"https://zenodo.org/record/7773502/files/w_hm3.snplist.gz\"\n",
    "destfile <- \"w_hm3.snplist.gz\"  \n",
    "\n",
    "download.file(url, destfile, mode = \"wb\")  \n",
    "\n",
    "system(\"gzip -d w_hm3.snplist.gz\")\n"
   ]
  },
  {
   "cell_type": "markdown",
   "metadata": {},
   "source": [
    "## Download European LD Matrices \n",
    "\n",
    "This uses a downloaded LD matrix, although the LD matrix generated in notebook 4.1 could also be used.  "
   ]
  },
  {
   "cell_type": "code",
   "execution_count": null,
   "metadata": {},
   "outputs": [],
   "source": [
    "gsutil_ref_cmd <- \"gsutil -u terra-vpc-sc-5934923d cp gs://broad-alkesgroup-public-requester-pays/LDSCORE/eur_ref_ld_chr.tar.bz2 .\"\n",
    "gsutil_wld_cmd <- \"gsutil -u terra-vpc-sc-5934923d cp gs://broad-alkesgroup-public-requester-pays/LDSCORE/eur_w_ld_chr.tar.bz2 .\"\n",
    "\n",
    "system(gsutil_ref_cmd)\n",
    "system(gsutil_wld_cmd)\n",
    "\n",
    "extract_ref_cmd <- \"tar -xjf eur_ref_ld_chr.tar.bz2\"\n",
    "extract_wld_cmd <- \"tar -xjf eur_w_ld_chr.tar.bz2\"\n",
    "\n",
    "system(extract_ref_cmd)\n",
    "system(extract_wld_cmd)"
   ]
  },
  {
   "cell_type": "markdown",
   "metadata": {},
   "source": [
    "## Prepare Modified Finngen File if desired"
   ]
  },
  {
   "cell_type": "code",
   "execution_count": null,
   "metadata": {},
   "outputs": [],
   "source": [
    "bucket <- Sys.getenv(\"WORKSPACE_BUCKET\")\n",
    "system(paste(\"gsutil cp\", file.path(bucket, \"data/processed_finn.tsv\"), \".\"))"
   ]
  },
  {
   "cell_type": "code",
   "execution_count": null,
   "metadata": {},
   "outputs": [],
   "source": [
    "processed_finn <- fread(\"processed_finn.tsv\")\n",
    "head(processed_finn)"
   ]
  },
  {
   "cell_type": "code",
   "execution_count": null,
   "metadata": {},
   "outputs": [],
   "source": [
    "meniscus_data <- fread(\"finngen_R12_M13_MENISCUSDERANGEMENTS.gz\")\n",
    "head(meniscus_data)"
   ]
  },
  {
   "cell_type": "code",
   "execution_count": null,
   "metadata": {},
   "outputs": [],
   "source": [
    "setnames(meniscus_data, old = \"#chrom\", new = \"chrom\")\n",
    "\n",
    "# Perform a merge to match based on chrom, pos, ref, and alt\n",
    "processed_finn <- merge(\n",
    "  processed_finn,\n",
    "  meniscus_data[, .(chrom, pos, ref, alt, rsids)],  # Select relevant columns\n",
    "  by.x = c(\"chrom\", \"pos\", \"ref\", \"alt\"),           # Columns from processed_finn\n",
    "  by.y = c(\"chrom\", \"pos\", \"ref\", \"alt\"),           # Columns from meniscus_data\n",
    "  all.x = TRUE                                      # Keep all rows from processed_finn\n",
    ")\n",
    "\n",
    "head(processed_finn)\n",
    "head(meniscus_data)"
   ]
  },
  {
   "cell_type": "code",
   "execution_count": null,
   "metadata": {
    "scrolled": false
   },
   "outputs": [],
   "source": [
    "setnames(processed_finn, \n",
    "         old = c(\"standard_error\", \"af_alt_arthro\", \"pval_m_fixed\", \"chrom\"), \n",
    "         new = c(\"sebeta\", \"af_alt\", \"pval\", \"#chrom\"), \n",
    "         skip_absent = FALSE)  \n",
    "\n",
    "head(processed_finn)\n",
    "\n",
    "output_file <- \"processed_finn_1.tsv\"\n",
    "fwrite(processed_finn, output_file, sep = \"\\t\")\n",
    "\n",
    "system(paste(\"gzip\", output_file))"
   ]
  },
  {
   "cell_type": "markdown",
   "metadata": {},
   "source": [
    "## Prepare Modified AllofUs European file if desired"
   ]
  },
  {
   "cell_type": "code",
   "execution_count": null,
   "metadata": {},
   "outputs": [],
   "source": [
    "bucket <- Sys.getenv(\"WORKSPACE_BUCKET\")\n",
    "system(paste(\"gsutil cp\", file.path(bucket, \"data/merged_eur.tsv\"), \".\"))"
   ]
  },
  {
   "cell_type": "code",
   "execution_count": null,
   "metadata": {},
   "outputs": [],
   "source": [
    "aou_eur <- fread(\"merged_eur.tsv\")\n",
    "head(aou_eur)"
   ]
  },
  {
   "cell_type": "code",
   "execution_count": null,
   "metadata": {},
   "outputs": [],
   "source": [
    "aou_eur[, af_alt := 0.5]\n",
    "\n",
    "# generate chrom column\n",
    "aou_eur[, `chrom` := sub(\"^chr(\\\\d+):.*\", \"\\\\1\", position)]\n",
    "\n",
    "# generate pos column\n",
    "aou_eur[, pos := sub(\"^chr\\\\d+:(\\\\d+).*\", \"\\\\1\", position)]\n",
    "\n",
    "head(aou_eur)"
   ]
  },
  {
   "cell_type": "code",
   "execution_count": null,
   "metadata": {},
   "outputs": [],
   "source": [
    "setnames(aou_eur, \n",
    "         old = c(\"standard_error\", \"p_value\"), \n",
    "         new = c(\"sebeta\", \"pval\"), \n",
    "         skip_absent = TRUE) "
   ]
  },
  {
   "cell_type": "markdown",
   "metadata": {},
   "source": [
    "Import rsids"
   ]
  },
  {
   "cell_type": "code",
   "execution_count": null,
   "metadata": {},
   "outputs": [],
   "source": [
    "# Load the finngen_R12_M13_MENISCUSDERANGEMENTS.gz file to populate\n",
    "meniscus_data <- fread(\"finngen_R12_M13_MENISCUSDERANGEMENTS.gz\")\n",
    "\n",
    "setnames(meniscus_data, old = \"#chrom\", new = \"chrom\")\n",
    "\n",
    "aou_eur[, chrom := as.integer(chrom)]\n",
    "aou_eur[, pos := as.integer(pos)]\n",
    "\n",
    "# Perform a merge to match based on chrom, pos, ref, and alt\n",
    "aou_eur <- merge(\n",
    "  aou_eur,\n",
    "  meniscus_data[, .(chrom, pos, ref, alt, rsids)],  # Select relevant columns\n",
    "  by.x = c(\"chrom\", \"pos\", \"ref\", \"alt\"),           # Columns from aou_eur\n",
    "  by.y = c(\"chrom\", \"pos\", \"ref\", \"alt\"),           # Columns from meniscus_data\n",
    "  all.x = TRUE                                      # Keep all rows from processed_finn\n",
    ")\n",
    "\n",
    "setnames(aou_eur, old = \"chrom\", new = \"#chrom\")\n",
    "\n",
    "head(aou_eur)\n"
   ]
  },
  {
   "cell_type": "code",
   "execution_count": null,
   "metadata": {},
   "outputs": [],
   "source": [
    "str(aou_eur)"
   ]
  },
  {
   "cell_type": "code",
   "execution_count": null,
   "metadata": {},
   "outputs": [],
   "source": [
    "str(meniscus_data)"
   ]
  },
  {
   "cell_type": "code",
   "execution_count": null,
   "metadata": {},
   "outputs": [],
   "source": [
    "output_file <- \"aou_eur.tsv\"\n",
    "fwrite(aou_eur, output_file, sep = \"\\t\")\n",
    "\n",
    "system(paste(\"gzip\", output_file))"
   ]
  },
  {
   "cell_type": "markdown",
   "metadata": {},
   "source": [
    "## Prepare Modified AllofUs Meta-Analysis file if desired"
   ]
  },
  {
   "cell_type": "code",
   "execution_count": null,
   "metadata": {},
   "outputs": [],
   "source": [
    "bucket <- Sys.getenv(\"WORKSPACE_BUCKET\")\n",
    "system(paste(\"gsutil cp\", file.path(bucket, \"data/meta_all1_GC.tsv.bgz\"), \".\"))\n",
    "final_meta = fread(\"meta_all1_GC.tsv.bgz\")\n",
    "head(final_meta)"
   ]
  },
  {
   "cell_type": "code",
   "execution_count": null,
   "metadata": {},
   "outputs": [],
   "source": [
    "final_meta[, af_alt := 0.5]\n",
    "\n",
    "final_meta[, chrom := sub(\"^chr(\\\\d+):.*\", \"\\\\1\", MarkerName)]\n",
    "\n",
    "final_meta[, pos := sub(\"^chr\\\\d+:(\\\\d+)_.*\", \"\\\\1\", MarkerName)]\n",
    "\n",
    "final_meta[, ref := sub(\"^chr\\\\d+:\\\\d+_([A-Z]+)_.+\", \"\\\\1\", MarkerName)]\n",
    "\n",
    "final_meta[, alt := sub(\"^chr\\\\d+:\\\\d+_[A-Z]+_([A-Z]+)\", \"\\\\1\", MarkerName)]\n",
    "\n",
    "head(final_meta)"
   ]
  },
  {
   "cell_type": "code",
   "execution_count": null,
   "metadata": {},
   "outputs": [],
   "source": [
    "setnames(final_meta, \n",
    "         old = c(\"StdErr\", \"P-value\"), \n",
    "         new = c(\"sebeta\", \"pval\"), \n",
    "         skip_absent = TRUE) "
   ]
  },
  {
   "cell_type": "code",
   "execution_count": null,
   "metadata": {},
   "outputs": [],
   "source": [
    "# Load the finngen_R12_M13_MENISCUSDERANGEMENTS.gz file to populate\n",
    "meniscus_data <- fread(\"finngen_R12_M13_MENISCUSDERANGEMENTS.gz\")\n",
    "\n",
    "setnames(meniscus_data, old = \"#chrom\", new = \"chrom\")\n",
    "\n",
    "final_meta[, chrom := as.integer(chrom)]\n",
    "final_meta[, pos := as.integer(pos)]\n",
    "\n",
    "# Perform a merge to match based on chrom, pos, ref, and alt\n",
    "final_meta <- merge(\n",
    "  final_meta,\n",
    "  meniscus_data[, .(chrom, pos, ref, alt, rsids)],  # Select relevant columns\n",
    "  by.x = c(\"chrom\", \"pos\", \"ref\", \"alt\"),           # Columns from final_meta\n",
    "  by.y = c(\"chrom\", \"pos\", \"ref\", \"alt\"),           # Columns from meniscus_data\n",
    "  all.x = TRUE                                      # Keep all rows from processed_finn\n",
    ")\n",
    "\n",
    "setnames(final_meta, old = \"chrom\", new = \"#chrom\")\n",
    "\n",
    "head(final_meta)"
   ]
  },
  {
   "cell_type": "code",
   "execution_count": null,
   "metadata": {},
   "outputs": [],
   "source": [
    "output_file <- \"final_meta.tsv\"\n",
    "fwrite(final_meta, output_file, sep = \"\\t\")\n",
    "\n",
    "system(paste(\"gzip\", output_file))"
   ]
  },
  {
   "cell_type": "markdown",
   "metadata": {},
   "source": [
    "## Function to calculate effective sample size for logistic regression "
   ]
  },
  {
   "cell_type": "code",
   "execution_count": null,
   "metadata": {},
   "outputs": [],
   "source": [
    "calculate_effective_sample_size <- function(cases_controls) {\n",
    "  if (length(cases_controls) %% 2 != 0) {\n",
    "    stop(\"cases_controls must contain an even number of elements (pairs of cases and controls).\")\n",
    "  }\n",
    "  \n",
    "  # Split cases and controls into separate vectors\n",
    "  cases <- cases_controls[seq(1, length(cases_controls), by = 2)]\n",
    "  controls <- cases_controls[seq(2, length(cases_controls), by = 2)]\n",
    "  \n",
    "  # Calculate effective sample size\n",
    "  effective_sample_sizes <- 4 / (1 / cases + 1 / controls)\n",
    "  \n",
    "  return(effective_sample_sizes)\n",
    "}"
   ]
  },
  {
   "cell_type": "markdown",
   "metadata": {},
   "source": [
    "# Identify desired GWAS summary statistics and set parameters"
   ]
  },
  {
   "cell_type": "code",
   "execution_count": null,
   "metadata": {},
   "outputs": [],
   "source": [
    "#ENTER IN CELL BELOW\n",
    "\n",
    "input_files <- c(\"processed_finn_1.tsv.gz\", \"finngen_R12_BMI_IRN.gz\")\n",
    "\n",
    "trait.names <- c(\"Meniscus_Derangements_finn\", \"BMI_IRN_finn\")\n",
    "\n",
    "cases_controls <- c(31840, 468508, 300000, 0)\n",
    "\n",
    "type <- c(\"logistic\", \"linear\")  # define the type- for linear, put the sample size in cases and 0 for controls\n"
   ]
  },
  {
   "cell_type": "code",
   "execution_count": null,
   "metadata": {},
   "outputs": [],
   "source": [
    "traits <- paste0(trait.names, \".sumstats.gz\")\n",
    "sample_sizes <- vector(\"numeric\", length(type))\n",
    "sample_prev <- vector(\"numeric\", length(type))\n",
    "population_prev <- vector(\"numeric\", length(type))\n",
    "\n",
    "for (i in seq_along(type)) {\n",
    "  if (type[i] == \"logistic\") {\n",
    "    # Logistic case- calculate effective sample size and prevalences\n",
    "    sample_sizes[i] <- calculate_effective_sample_size(c(cases_controls[(2 * i - 1):(2 * i)]))\n",
    "    sample_prev[i] <- cases_controls[2 * i - 1] / sum(cases_controls[(2 * i - 1):(2 * i)])\n",
    "    population_prev[i] <- sample_prev[i]\n",
    "  } else if (type[i] == \"linear\") {\n",
    "    # Linear case- use number of cases as the sample size, set prevalences to NA\n",
    "    sample_sizes[i] <- cases_controls[2 * i - 1]\n",
    "    sample_prev[i] <- NA\n",
    "    population_prev[i] <- NA\n",
    "  } else {\n",
    "    stop(\"Unknown type specified. Use 'logistic' or 'linear'.\")\n",
    "  }\n",
    "}"
   ]
  },
  {
   "cell_type": "code",
   "execution_count": null,
   "metadata": {},
   "outputs": [],
   "source": [
    "print(input_files)\n",
    "print(sample_sizes)\n",
    "print(sample_prev)"
   ]
  },
  {
   "cell_type": "markdown",
   "metadata": {},
   "source": [
    "# Prepare files for Munging"
   ]
  },
  {
   "cell_type": "code",
   "execution_count": null,
   "metadata": {},
   "outputs": [],
   "source": [
    "process_file <- function(input_file, sample_size) {\n",
    "  data <- fread(input_file)\n",
    "  \n",
    "  # Add new columns\n",
    "  data[, N := sample_size]  # Add N column with  specified sample size\n",
    "  data[, Z := beta / sebeta]  # Calculate Z score\n",
    "  data[, INFO := 0.99]  # Add INFO column with default value to avoid errors (not present in our sumstats)\n",
    "  \n",
    "  # Rename columns\n",
    "  setnames(data, \n",
    "           old = c(\"#chrom\", \"pos\", \"ref\", \"alt\", \"rsids\", \"pval\", \"beta\", \"sebeta\", \"af_alt\"), \n",
    "           new = c(\"CHR\", \"POS\", \"A1\", \"A2\", \"SNP\", \"P\", \"effect\", \"se\", \"MAF\"))\n",
    "  \n",
    "  # Filter based on MAF\n",
    "  data <- data[MAF >= 0.01]\n",
    "  \n",
    "  # Write to a new file with `_2` appended to the name\n",
    "  temp_file <- sub(\".gz$\", \"_2\", input_file)  \n",
    "  uncompressed_file <- sub(\".gz$\", \"\", temp_file)  \n",
    "  fwrite(data, uncompressed_file, sep = \"\\t\")\n",
    "  \n",
    "  system(paste(\"gzip\", uncompressed_file))\n",
    "}\n"
   ]
  },
  {
   "cell_type": "code",
   "execution_count": null,
   "metadata": {},
   "outputs": [],
   "source": [
    "# Process both files with respective sample sizes\n",
    "mapply(process_file, input_files, sample_sizes)\n"
   ]
  },
  {
   "cell_type": "markdown",
   "metadata": {},
   "source": [
    "# Munge Files"
   ]
  },
  {
   "cell_type": "code",
   "execution_count": null,
   "metadata": {},
   "outputs": [],
   "source": [
    "files <- sub(\".gz$\", \"_2.gz\", input_files)\n",
    "# Define hapmap3 file \n",
    "\n",
    "munge(\n",
    "  files = files,\n",
    "  hm3 = \"w_hm3.snplist\",\n",
    "  trait.names = trait.names,\n",
    "  N = sample_sizes,\n",
    "  info.filter = 0.8,  \n",
    "  maf.filter = 0.01,  \n",
    "  parallel = FALSE,  \n",
    "  cores = 1,\n",
    "  overwrite = TRUE\n",
    ")\n",
    "\n",
    "\n"
   ]
  },
  {
   "cell_type": "markdown",
   "metadata": {},
   "source": [
    "# LDSC"
   ]
  },
  {
   "cell_type": "code",
   "execution_count": null,
   "metadata": {},
   "outputs": [],
   "source": [
    "ld <- \"eur_ref_ld_chr/\"  \n",
    "wld <- \"eur_w_ld_chr/\"   \n",
    "\n",
    "ldsc_results <- ldsc(\n",
    "  traits = traits,\n",
    "  sample.prev = sample.prev,\n",
    "  population.prev = population.prev,\n",
    "  ld = ld,\n",
    "  wld = wld,\n",
    "  trait.names = trait.names,  \n",
    "  chr = 22,  \n",
    "  n.blocks = 200,  \n",
    "  stand = TRUE  \n",
    ")\n",
    "\n",
    "print(ldsc_results$S)  # Genetic covariance matrix\n",
    "print(ldsc_results$V)  # Variance-covariance matrix of genetic covariance\n",
    "print(ldsc_results$I)  # Cross-trait intercepts\n",
    "print(ldsc_results$N)  # Sample size matrix\n",
    "print(ldsc_results$m)  # Number of SNPs used\n"
   ]
  },
  {
   "cell_type": "code",
   "execution_count": null,
   "metadata": {},
   "outputs": [],
   "source": []
  }
 ],
 "metadata": {
  "kernelspec": {
   "display_name": "R",
   "language": "R",
   "name": "ir"
  },
  "language_info": {
   "codemirror_mode": "r",
   "file_extension": ".r",
   "mimetype": "text/x-r-source",
   "name": "R",
   "pygments_lexer": "r",
   "version": "4.4.0"
  },
  "toc": {
   "base_numbering": 1,
   "nav_menu": {},
   "number_sections": true,
   "sideBar": true,
   "skip_h1_title": false,
   "title_cell": "Table of Contents",
   "title_sidebar": "Contents",
   "toc_cell": false,
   "toc_position": {},
   "toc_section_display": true,
   "toc_window_display": false
  }
 },
 "nbformat": 4,
 "nbformat_minor": 2
}
