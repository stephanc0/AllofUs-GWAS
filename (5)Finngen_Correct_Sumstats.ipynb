{
 "cells": [
  {
   "cell_type": "markdown",
   "metadata": {},
   "source": [
    "# INTRO"
   ]
  },
  {
   "cell_type": "markdown",
   "metadata": {},
   "source": [
    "**Author:** Stephan Cordogan"
   ]
  },
  {
   "cell_type": "markdown",
   "metadata": {},
   "source": [
    "This notebook uses methods from the paper \"Meta-Analysis of Genome-wide Association Studies with Overlapping Subjects\" to algebraically estimate the GWAS summary statistics of a Finngen Meniscus Derangement GWAS, using a preexisting Meniscus Derangement GWAS and Arthropathies GWAS.  The preexisting Meniscus Derangement GWAS is confounded for the genetic signal of Arthropathies, because it uses individuals with no arthropathies as controls, instead of all individuals with no meniscus derangements(a type of arthropathy).  This confounding significantly distorts the genetic signal from meniscus derangements. The meniscus derangements GWAS has a genetic correlation of .88 with meniscus derangements. After adjustment, the genetic correlation is .76.\n",
    "\n",
    "https://pmc.ncbi.nlm.nih.gov/articles/PMC2790578/"
   ]
  },
  {
   "cell_type": "markdown",
   "metadata": {},
   "source": [
    "# Detailed Explanation"
   ]
  },
  {
   "cell_type": "markdown",
   "metadata": {},
   "source": [
    "Finngen is a large biobank which automatedly computes GWAS summary statistics every 6 months for thousands of phenotypes.  Finngen has a meniscus derangements GWAS, but the controls for the GWAS are improperly selected for our goal of identifying meniscus derangements risk variants relative to the general population.  \n",
    "\n",
    "Meniscus derangements are a type of arthropathy, so all Meniscus derangements cases are also cases within the arthropathies GWAS.  The meniscus derangements GWAS is malformed because it compared meniscus derangements cases with non-arthropathy controls, while removing individuals with non-meniscus arthropathies from the GWAS controls altogether.  This means that genes which cause non-meniscus arthropathies are at an artificially decreased frequency within controls, because individuals with higher frequencies of those genes are more likely to be filtered out of the controls.  A proportion of the genetic signal of the Finngen Meniscus Derangements GWAS is likely due to this confounding, and it has an 88% genetic correlation with the Arthropathies GWAS, as determined by LDSC.  \n",
    "\n",
    "Ideally, I would have a GWAS which compared all individuals with meniscus derangements to all individuals without meniscus derangements, which are people who don’t have any arthropathies, and also people who have arthropathies but not meniscus derangements.\n",
    "\n",
    "While I have access to the Summary Statistics, I do not have access to Finngen’s raw data, and so the best option is to estimate the summary statistics of a properly formed meniscus derangements GWAS.  I achieve this by using formulas for meta-analyzing and comparing GWAS summary statistics in the presence of overlapping subjects outlined in the paper Meta-Analysis of Genome-wide Association Studies with Overlapping Subjects, by Dan-Yu Lin and Patrick Sullivan, and the summary statistics from the improperly formed Meniscus derangements GWAS, along with a Finngen Arthropathies GWAS.\n"
   ]
  },
  {
   "cell_type": "markdown",
   "metadata": {},
   "source": [
    "<img src=\"./assets/Sumstats_information.png\" alt=\"Example Image\" width=\"1000\">\n"
   ]
  },
  {
   "cell_type": "markdown",
   "metadata": {},
   "source": [
    "There are two formulas derived within the paper, a meta-analysis formula for same-disorder comparisons, and a cross-disorder comparison formula.  There are straightforward meta-analysis techniques and packages, but they are built on the assumption that the summary statistics are from completely independent samples.\n",
    "\n",
    "The Same-disorder comparison meta- analysis formula combines estimates of a common genetic effect, weighting variances as is standard in meta-analysis, so that more precise estimates contribute more to the overall estimate.  However, it also adds a term for covariance between the studies, with a higher covariance increasing the variance estimate.  Due to the overlapping samples, errors that are found in one study are also more likely to be found in the other study, whereas meta-analysis of independent studies will have independent errors, making this term unnecessary.\n",
    "\n",
    "The cross-disorder comparison formula attempts to estimate the difference between genetic effects across studies.  Variances are unweighted because we are comparing effects without pooling information.  However, the correlation between studies is subtracted from the variance, because when subtracting estimates, shared errors cancel out.  This step yields slightly deflated summary statistics, suggesting that it is overly conservative, although this is preferable to the alternative. \n",
    "\n",
    "The meta-analysis formula can be rearranged so that it solves for a component GWAS, with the summary statistics of a combined GWAS and the other component GWAS [(a)](#Rearrange-meta-analysis-formula-to-solve-for-component-GWAS-SE).\n"
   ]
  },
  {
   "cell_type": "markdown",
   "metadata": {},
   "source": [
    "<img src=\"./assets/Meta_analysis_formulas.png\" alt=\"Example Image\" width=\"1000\">\n"
   ]
  },
  {
   "cell_type": "markdown",
   "metadata": {},
   "source": [
    "I take three steps to calculate the approximate summary statistics of the correctly formed Meniscus derangements GWAS.  For Step 1, I generate approximate summary statistics for a theoretical Non-meniscus Arthropathy GWAS.  The Arthropathies GWAS has the same controls as both the Non- Meniscus Arthropathies GWAS and the Meniscus Derangements GWAS, but different cases, so if we had each component GWAS we could meta-analyze them, with adjustment for overlapping controls, to create the Arthropathies GWAS.  We use the rearranged the standard error formula for same- disorder comparisons from the paper mentioned above [(a)](#Rearrange-meta-analysis-formula-to-solve-for-component-GWAS-SE) to calculate the standard error for the Non- Meniscus Arthropathies component GWAS, from which we calculate the beta values with Inverse Variance-Weighting, the standard for meta-analysis beta value calculation. R is the correlation between the two GWASes due to sample overlap. As you can see, there is a plus-minus in the formula.  The plus always generates positive solutions, and the minus always generates negative solutions, so we take the former, as the latter is impossible.\n"
   ]
  },
  {
   "cell_type": "markdown",
   "metadata": {},
   "source": [
    "<img src=\"./assets/Step_1.png\" alt=\"Example Image\" width=\"1000\">"
   ]
  },
  {
   "cell_type": "markdown",
   "metadata": {},
   "source": [
    "For Step 2, we perform a cross-disorder comparison on our Non-Meniscus Arthropathy GWAS summary statistics, using the provided formula, to generate the summary statistics of a theoretical Meniscus Derangement vs Non-Meniscus Arthropathy GWAS."
   ]
  },
  {
   "cell_type": "markdown",
   "metadata": {},
   "source": [
    "<img src=\"./assets/Step_2.png\" alt=\"Example Image\" width=\"1000\">\n"
   ]
  },
  {
   "cell_type": "markdown",
   "metadata": {},
   "source": [
    "![Example Image](./assets/Step_2.png)"
   ]
  }
  {
   "cell_type": "markdown",
   "metadata": {},
   "source": [
    "For step 3, we use the original arrangement of the same-disorder comparison to meta-analyze, with adjustment for overlapping cases, the results of a properly formed meniscus derangements GWAS."
   ]
  },
  {
   "cell_type": "markdown",
   "metadata": {},
   "source": [
    "<img src=\"./assets/Step_3.png\" alt=\"Example Image\" width=\"1000\">"
   ]
  },
  {
   "cell_type": "markdown",
   "metadata": {},
   "source": [
    "The LDSC between the resultant summary statistics, and the arthropathies GWAS is down to .7559 from .8773, suggesting that while there is major intercorrelation between the two diseases, a significant proportion was due to confounding, which has since been reduced."
   ]
  },
  {
   "cell_type": "markdown",
   "metadata": {},
   "source": [
    "# Rearrange meta-analysis formula to solve for component GWAS SE"
   ]
  },
  {
   "cell_type": "markdown",
   "metadata": {},
   "source": [
    "#### Derivation of $w_1$ and $w_2$\n",
    "\n",
    "To write out the weights for study 1 ($w_1$) and study 2 ($w_2$) explicitly, we use the formula for the optimal weights in the presence of overlapping studies:\n",
    "\n",
    "$$\n",
    "[w_1, w_2] = \\frac{\\mathbf{e}^T \\mathbf{\\Omega}^{-1}}{\\mathbf{e}^T \\mathbf{\\Omega}^{-1} \\mathbf{e}},\n",
    "$$\n",
    "\n",
    "where:\n",
    "\n",
    "1. $\\mathbf{e} = [1, 1]^T$ is a vector of ones.\n",
    "2. $\\mathbf{\\Omega}$ is the $2 \\times 2$ covariance matrix of $[\\hat{\\eta}_1, \\hat{\\eta}_2]$, given by:\n",
    "\n",
    "$$\n",
    "\\mathbf{\\Omega} =\n",
    "\\begin{bmatrix}\n",
    "V_1 & \\text{Cov}(\\hat{\\eta}_1, \\hat{\\eta}_2) \\\\\n",
    "\\text{Cov}(\\hat{\\eta}_1, \\hat{\\eta}_2) & V_2\n",
    "\\end{bmatrix},\n",
    "$$\n",
    "\n",
    "where $V_1$ and $V_2$ are the variances of studies 1 and 2, and $\\text{Cov}(\\hat{\\eta}_1, \\hat{\\eta}_2)$ is their covariance.\n",
    "\n",
    "---\n",
    "\n",
    "#### Invert the Covariance Matrix ($\\mathbf{\\Omega}$)\n",
    "\n",
    "The inverse of the $2 \\times 2$ covariance matrix $\\mathbf{\\Omega}$ is:\n",
    "\n",
    "$$\n",
    "\\mathbf{\\Omega}^{-1} =\n",
    "\\frac{1}{V_1 V_2 - \\text{Cov}(\\hat{\\eta}_1, \\hat{\\eta}_2)^2}\n",
    "\\begin{bmatrix}\n",
    "V_2 & -\\text{Cov}(\\hat{\\eta}_1, \\hat{\\eta}_2) \\\\\n",
    "-\\text{Cov}(\\hat{\\eta}_1, \\hat{\\eta}_2) & V_1\n",
    "\\end{bmatrix}.\n",
    "$$\n",
    "\n",
    "---\n",
    "\n",
    "#### Compute the Numerator ($\\mathbf{e}^T \\mathbf{\\Omega}^{-1}$)\n",
    "\n",
    "The numerator for $w_1$ and $w_2$ is:\n",
    "\n",
    "$$\n",
    "\\mathbf{e}^T \\mathbf{\\Omega}^{-1} =\n",
    "[1, 1] \\cdot\n",
    "\\frac{1}{V_1 V_2 - \\text{Cov}(\\hat{\\eta}_1, \\hat{\\eta}_2)^2}\n",
    "\\begin{bmatrix}\n",
    "V_2 & -\\text{Cov}(\\hat{\\eta}_1, \\hat{\\eta}_2) \\\\\n",
    "-\\text{Cov}(\\hat{\\eta}_1, \\hat{\\eta}_2) & V_1\n",
    "\\end{bmatrix}.\n",
    "$$\n",
    "\n",
    "Expanding this:\n",
    "\n",
    "$$\n",
    "\\mathbf{e}^T \\mathbf{\\Omega}^{-1} =\n",
    "\\frac{1}{V_1 V_2 - \\text{Cov}(\\hat{\\eta}_1, \\hat{\\eta}_2)^2}\n",
    "\\begin{bmatrix}\n",
    "V_2 - \\text{Cov}(\\hat{\\eta}_1, \\hat{\\eta}_2), \\, V_1 - \\text{Cov}(\\hat{\\eta}_1, \\hat{\\eta}_2)\n",
    "\\end{bmatrix}.\n",
    "$$\n",
    "\n",
    "---\n",
    "\n",
    "#### Compute the Denominator ($\\mathbf{e}^T \\mathbf{\\Omega}^{-1} \\mathbf{e}$)\n",
    "\n",
    "The denominator is:\n",
    "\n",
    "$$\n",
    "\\mathbf{e}^T \\mathbf{\\Omega}^{-1} \\mathbf{e} =\n",
    "\\frac{1}{V_1 V_2 - \\text{Cov}(\\hat{\\eta}_1, \\hat{\\eta}_2)^2}\n",
    "\\Big(\n",
    "V_2 - \\text{Cov}(\\hat{\\eta}_1, \\hat{\\eta}_2) + V_1 - \\text{Cov}(\\hat{\\eta}_1, \\hat{\\eta}_2)\n",
    "\\Big).\n",
    "$$\n",
    "\n",
    "Simplifying:\n",
    "\n",
    "$$\n",
    "\\mathbf{e}^T \\mathbf{\\Omega}^{-1} \\mathbf{e} =\n",
    "\\frac{V_1 + V_2 - 2 \\cdot \\text{Cov}(\\hat{\\eta}_1, \\hat{\\eta}_2)}{V_1 V_2 - \\text{Cov}(\\hat{\\eta}_1, \\hat{\\eta}_2)^2}.\n",
    "$$\n",
    "\n",
    "---\n",
    "\n",
    "#### Write the Weights ($w_1$ and $w_2$)\n",
    "\n",
    "The weights are:\n",
    "\n",
    "1. For $w_1$:\n",
    "\n",
    "$$\n",
    "w_1 = \\frac{V_2 - \\text{Cov}(\\hat{\\eta}_1, \\hat{\\eta}_2)}{V_1 + V_2 - 2 \\cdot \\text{Cov}(\\hat{\\eta}_1, \\hat{\\eta}_2)}.\n",
    "$$\n",
    "\n",
    "2. For $w_2$:\n",
    "\n",
    "$$\n",
    "w_2 = \\frac{V_1 - \\text{Cov}(\\hat{\\eta}_1, \\hat{\\eta}_2)}{V_1 + V_2 - 2 \\cdot \\text{Cov}(\\hat{\\eta}_1, \\hat{\\eta}_2)}.\n",
    "$$\n",
    "\n",
    "---\n",
    "\n",
    "#### Substitute Standard Errors for Variances\n",
    "\n",
    "Substituting $V_1 = SE_1^2$, $V_2 = SE_2^2$, and $\\text{Cov}(\\hat{\\eta}_1, \\hat{\\eta}_2) = r \\cdot SE_1 \\cdot SE_2$, the weights become:\n",
    "\n",
    "1. For $w_1$:\n",
    "\n",
    "$$\n",
    "w_1 = \\frac{SE_2^2 - r \\cdot SE_1 \\cdot SE_2}{SE_1^2 + SE_2^2 - 2 \\cdot r \\cdot SE_1 \\cdot SE_2}.\n",
    "$$\n",
    "\n",
    "2. For $w_2$:\n",
    "\n",
    "$$\n",
    "w_2 = \\frac{SE_1^2 - r \\cdot SE_1 \\cdot SE_2}{SE_1^2 + SE_2^2 - 2 \\cdot r \\cdot SE_1 \\cdot SE_2}.\n",
    "$$\n",
    "\n",
    "---\n",
    "\n",
    "\n",
    "####  Substitute $ w_1, w_2, \\text{and } \\text{Cov}(\\hat{\\eta}_1, \\hat{\\eta}_2) $ into $ SE_{\\text{combined}}^2 $\n",
    "\n",
    "$$\n",
    "SE_{\\text{combined}}^2 =\n",
    "\\frac{\\left(SE_2^2 - r \\cdot SE_1 \\cdot SE_2\\right)^2 \\cdot SE_1^2}{\\left(SE_1^2 + SE_2^2 - 2 \\cdot r \\cdot SE_1 \\cdot SE_2\\right)^2}\n",
    "+ \\frac{\\left(SE_1^2 - r \\cdot SE_1 \\cdot SE_2\\right)^2 \\cdot SE_2^2}{\\left(SE_1^2 + SE_2^2 - 2 \\cdot r \\cdot SE_1 \\cdot SE_2\\right)^2}\n",
    "$$\n",
    "\n",
    "$$\n",
    "+ \\frac{2 \\cdot \\left(SE_2^2 - r \\cdot SE_1 \\cdot SE_2\\right) \\cdot \\left(SE_1^2 - r \\cdot SE_1 \\cdot SE_2\\right) \\cdot r \\cdot SE_1 \\cdot SE_2}{\\left(SE_1^2 + SE_2^2 - 2 \\cdot r \\cdot SE_1 \\cdot SE_2\\right)^2}.\n",
    "$$\n",
    "\n",
    "---"
   ]
  },
  {
   "cell_type": "markdown",
   "metadata": {},
   "source": [
    "#### Simplify the Formula"
   ]
  },
  {
   "cell_type": "code",
   "execution_count": null,
   "metadata": {},
   "outputs": [],
   "source": [
    "!pip install sympy\n",
    "import sympy\n",
    "from sympy import symbols, simplify\n",
    "#Variables\n",
    "SE1, SE2, SE_combined, r = symbols('SE1 SE2 SE_combined r')\n",
    "formula = (\n",
    "    ((SE2**2 - r * SE1 * SE2)**2 * SE1**2 +\n",
    "     (SE1**2 - r * SE1 * SE2)**2 * SE2**2 +\n",
    "     2 * (SE2**2 - r * SE1 * SE2) * (SE1**2 - r * SE1 * SE2) * r * SE1 * SE2)\n",
    "    / (SE1**2 + SE2**2 - 2 * r * SE1 * SE2)**2\n",
    ")\n",
    "simplified_formula = simplify(formula)\n",
    "print(simplified_formula)"
   ]
  },
  {
   "cell_type": "markdown",
   "metadata": {},
   "source": [
    "After simplification, the combined variance becomes:\n",
    "\n",
    "$$\n",
    "SE_{\\text{combined}}^2 =\n",
    "\\frac{SE_1^2 \\cdot SE_2^2 \\cdot (r^2 - 1)}{-SE_1^2 + 2 \\cdot SE_1 \\cdot SE_2 \\cdot r - SE_2^2}.\n",
    "$$\n",
    "\n",
    "---\n",
    "\n",
    "#### Solve for $ SE_2 $\n",
    "\n",
    "Rewriting $ SE_{\\text{combined}}^2 $ as:\n",
    "\n",
    "$$\n",
    "SE_{\\text{combined}}^2 = \\frac{SE_1^2 \\cdot SE_2^2 \\cdot (r^2 - 1)}{-SE_1^2 + 2 \\cdot SE_1 \\cdot SE_2 \\cdot r - SE_2^2}.\n",
    "$$\n"
   ]
  },
  {
   "cell_type": "code",
   "execution_count": null,
   "metadata": {},
   "outputs": [],
   "source": [
    "from sympy import Eq, solve\n",
    "equation = Eq(SE1**2 * SE2**2 * (r**2 - 1) / (-SE1**2 + 2 * SE1 * SE2 * r - SE2**2), SE_combined**2)\n",
    "solution_SE2 = solve(equation, SE2)\n",
    "print(solution_SE2)"
   ]
  },
  {
   "cell_type": "markdown",
   "metadata": {},
   "source": [
    "#### Solving for $ SE_2 $, we find:\n",
    "\n",
    "1.\n",
    "$$\n",
    "SE_2 = \\frac{SE_1 \\cdot (SE_{\\text{combined}}^2 \\cdot r - \\sqrt{-SE_{\\text{combined}}^2 \\cdot (SE_1^2 - SE_{\\text{combined}}^2) \\cdot (r - 1) \\cdot (r + 1)})}{SE_1^2 \\cdot r^2 - SE_1^2 + SE_{\\text{combined}}^2}.\n",
    "$$\n",
    "\n",
    "2.\n",
    "$$\n",
    "SE_2 = \\frac{SE_1 \\cdot (SE_{\\text{combined}}^2 \\cdot r + \\sqrt{-SE_{\\text{combined}}^2 \\cdot (SE_1^2 - SE_{\\text{combined}}^2) \\cdot (r - 1) \\cdot (r + 1)})}{SE_1^2 \\cdot r^2 - SE_1^2 + SE_{\\text{combined}}^2}.\n",
    "$$\n",
    "\n",
    "#### Both solutions are calculated, and the possible one is used"
   ]
  },
  {
   "cell_type": "markdown",
   "metadata": {},
   "source": [
    "# Import Necessary Packages"
   ]
  },
  {
   "cell_type": "code",
   "execution_count": null,
   "metadata": {},
   "outputs": [],
   "source": [
    "import os\n",
    "import pandas as pd\n",
    "from datetime import datetime\n",
    "start = datetime.now()\n",
    "\n",
    "bucket = os.getenv(\"WORKSPACE_BUCKET\")\n",
    "dataset = os.getenv(\"WORKSPACE_CDR\")"
   ]
  },
  {
   "cell_type": "code",
   "execution_count": null,
   "metadata": {},
   "outputs": [],
   "source": [
    "!gsutil ls $WORKSPACE_BUCKET\n",
    "!gsutil ls -l gs://fc-secure-f8b6c774-d7fc-411b-90cf-bc425b194d81/data/"
   ]
  },
  {
   "cell_type": "markdown",
   "metadata": {},
   "source": [
    "# Download and load GWAS Sumstats "
   ]
  },
  {
   "cell_type": "code",
   "execution_count": null,
   "metadata": {},
   "outputs": [],
   "source": [
    "!gsutil cp gs://finngen-public-data-r12/summary_stats/release/finngen_R12_M13_MENISCUSDERANGEMENTS.gz .\n",
    "!gsutil cp gs://finngen-public-data-r12/summary_stats/release/finngen_R12_M13_ARTHROPATHIES.gz ."
   ]
  },
  {
   "cell_type": "code",
   "execution_count": null,
   "metadata": {},
   "outputs": [],
   "source": [
    "meniscus_data = pd.read_csv(\"finngen_R12_M13_MENISCUSDERANGEMENTS.gz\", compression='gzip', sep='\\t')\n",
    "arthropathies_data = pd.read_csv(\"finngen_R12_M13_ARTHROPATHIES.gz\", compression='gzip', sep='\\t')\n",
    "\n",
    "print(\"Meniscus Derangements Summary Stats:\")\n",
    "print(meniscus_data.head())\n",
    "\n",
    "print(\"\\nArthropathies Summary Stats:\")\n",
    "print(arthropathies_data.head())"
   ]
  },
  {
   "cell_type": "markdown",
   "metadata": {},
   "source": [
    "# Estimate Correlation between GWAS Summary Statistics due to Sample Overlap"
   ]
  },
  {
   "cell_type": "code",
   "execution_count": null,
   "metadata": {},
   "outputs": [],
   "source": [
    "import numpy as np\n",
    "\n",
    "def calculate_correlation(N_cases1, N_controls1, N_cases2, N_controls2, N_cases_overlap, N_controls_overlap):\n",
    "    # Total sample sizes\n",
    "    N_total1 = N_cases1 + N_controls1\n",
    "    N_total2 = N_cases2 + N_controls2\n",
    "    \n",
    "    # Prevalence and intercepts (alpha) for each study\n",
    "    p1 = N_cases1 / N_total1\n",
    "    p2 = N_cases2 / N_total2\n",
    "    \n",
    "    alpha1 = np.log(p1 / (1 - p1))\n",
    "    alpha2 = np.log(p2 / (1 - p2))\n",
    "    \n",
    "    # Correlation between the beta estimates\n",
    "    correlation = (1 / np.sqrt(N_total1) / np.sqrt(N_total2)) * (\n",
    "        N_controls_overlap * np.sqrt(np.exp(alpha1 + alpha2)) +\n",
    "        N_cases_overlap / np.sqrt(np.exp(alpha1 + alpha2))\n",
    "    )\n",
    "    \n",
    "    return {\n",
    "        'alpha1': alpha1,\n",
    "        'alpha2': alpha2,\n",
    "        'correlation': correlation\n",
    "    }\n",
    "\n",
    "N_cases1 = 31840\n",
    "N_controls1 = 315115\n",
    "N_cases2 = 153393\n",
    "N_controls2 = 315115\n",
    "N_cases_overlap = 0  \n",
    "N_controls_overlap = 315115  \n",
    "\n",
    "# N_cases1 = 31840\n",
    "# N_controls1 = 153393\n",
    "# N_cases2 = 31840\n",
    "# N_controls2 = 315115\n",
    "# N_cases_overlap = 31840  \n",
    "# N_controls_overlap = 0  \n",
    "\n",
    "results = calculate_correlation(N_cases1, N_controls1, N_cases2, N_controls2, N_cases_overlap, N_controls_overlap)\n",
    "print(\"Alpha 1:\", results['alpha1'])\n",
    "print(\"Alpha 2:\", results['alpha2'])\n",
    "print(\"Correlation:\", results['correlation'])"
   ]
  },
  {
   "cell_type": "code",
   "execution_count": null,
   "metadata": {},
   "outputs": [],
   "source": [
    "corr_first = 0.1733\n",
    "corr_second = 0.8672"
   ]
  },
  {
   "cell_type": "markdown",
   "metadata": {},
   "source": [
    "## Merge Summary Statistics"
   ]
  },
  {
   "cell_type": "code",
   "execution_count": null,
   "metadata": {},
   "outputs": [],
   "source": [
    "#Create locus column \n",
    "for df in [meniscus_data, arthropathies_data]:\n",
    "    df['locus'] = df['#chrom'].astype(str) + '_' + df['pos'].astype(str) + '_' + df['ref'] + '_' + df['alt']\n"
   ]
  },
  {
   "cell_type": "code",
   "execution_count": null,
   "metadata": {},
   "outputs": [],
   "source": [
    "#Merge the two df's on locus\n",
    "merged_data = pd.merge(\n",
    "    meniscus_data, arthropathies_data, on='locus', suffixes=('_menisc', '_arthro')\n",
    ")\n",
    "\n",
    "#reorder columns as specified\n",
    "merged_data = merged_data[[\n",
    "    'locus','#chrom_menisc', 'pos_menisc', 'ref_menisc', 'alt_menisc', 'rsids_menisc',\n",
    "    'pval_menisc', 'beta_menisc', 'sebeta_menisc', 'af_alt_menisc',\n",
    "    'af_alt_cases_menisc', 'af_alt_controls_menisc',\n",
    "    'pval_arthro', 'beta_arthro', 'sebeta_arthro', 'af_alt_arthro',\n",
    "    'af_alt_cases_arthro', 'af_alt_controls_arthro'\n",
    "]]\n",
    "\n",
    "merged_data.head()\n"
   ]
  },
  {
   "cell_type": "code",
   "execution_count": null,
   "metadata": {},
   "outputs": [],
   "source": [
    "merged_data = merged_data.rename(columns={\n",
    "    '#chrom_menisc': 'chrom',\n",
    "    'pos_menisc': 'pos',\n",
    "    'ref_menisc': 'ref',\n",
    "    'alt_menisc': 'alt',\n",
    "    'rsids_menisc': 'rsids'\n",
    "})\n"
   ]
  },
  {
   "cell_type": "code",
   "execution_count": null,
   "metadata": {},
   "outputs": [],
   "source": [
    "merged_data = merged_data[merged_data['af_alt_menisc'] >= 0.005]\n"
   ]
  },
  {
   "cell_type": "markdown",
   "metadata": {},
   "source": [
    "## Calculate Non- Meniscus Arthropathy Standard Errors"
   ]
  },
  {
   "cell_type": "code",
   "execution_count": null,
   "metadata": {},
   "outputs": [],
   "source": [
    "import numpy as np\n",
    "\n",
    "rg = corr_first\n",
    "\n",
    "merged_data['sebeta_nonmeniscus_pos'] = (\n",
    "    merged_data['sebeta_menisc'] * merged_data['sebeta_arthro'] * (\n",
    "        merged_data['sebeta_arthro'] * rg - np.sqrt(\n",
    "            -(merged_data['sebeta_menisc'] - merged_data['sebeta_arthro']) *\n",
    "            (merged_data['sebeta_menisc'] + merged_data['sebeta_arthro']) *\n",
    "            (rg - 1) * (rg + 1)\n",
    "        )\n",
    "    ) / (\n",
    "        merged_data['sebeta_menisc']**2 * rg**2 - merged_data['sebeta_menisc']**2 + merged_data['sebeta_arthro']**2\n",
    "    )\n",
    ")\n",
    "\n",
    "# Calculate sebeta_nonmeniscus_neg\n",
    "merged_data['sebeta_nonmeniscus_neg'] = (\n",
    "    merged_data['sebeta_menisc'] * merged_data['sebeta_arthro'] * (\n",
    "        merged_data['sebeta_arthro'] * rg + np.sqrt(\n",
    "            -(merged_data['sebeta_menisc'] - merged_data['sebeta_arthro']) *\n",
    "            (merged_data['sebeta_menisc'] + merged_data['sebeta_arthro']) *\n",
    "            (rg - 1) * (rg + 1)\n",
    "        )\n",
    "    ) / (\n",
    "        merged_data['sebeta_menisc']**2 * rg**2 - merged_data['sebeta_menisc']**2 + merged_data['sebeta_arthro']**2\n",
    "    )\n",
    ")\n",
    "merged_data.head(5)"
   ]
  },
  {
   "cell_type": "code",
   "execution_count": null,
   "metadata": {},
   "outputs": [],
   "source": [
    "rsid_rows = merged_data[merged_data['rsids'] == 'rs4236140']\n",
    "print(rsid_rows)invalid_values_neg"
   ]
  },
  {
   "cell_type": "code",
   "execution_count": null,
   "metadata": {},
   "outputs": [],
   "source": [
    "invalid_values_neg = merged_data['sebeta_nonmeniscus_pos'].isna() | ~np.isfinite(merged_data['sebeta_nonmeniscus_pos'])\n",
    "nrow(invalid_values_neg)"
   ]
  },
  {
   "cell_type": "markdown",
   "metadata": {},
   "source": [
    "## Calculate Non- Meniscus Arthropathy Beta Values"
   ]
  },
  {
   "cell_type": "markdown",
   "metadata": {},
   "source": [
    "### IVW and SSW"
   ]
  },
  {
   "cell_type": "code",
   "execution_count": null,
   "metadata": {},
   "outputs": [],
   "source": [
    "merged_data['beta_nonmenisc'] = (\n",
    "    merged_data['sebeta_nonmeniscus_pos'] ** 2 * (\n",
    "        merged_data['beta_arthro'] * (1 / merged_data['sebeta_nonmeniscus_pos'] ** 2 + 1 / merged_data['sebeta_menisc'] ** 2) -\n",
    "        merged_data['beta_menisc'] / merged_data['sebeta_menisc'] ** 2\n",
    "    )\n",
    ")\n",
    "\n",
    "# merged_data['beta_nonmenisc'] = ((merged_data['beta_arthro'] * 165397) - (merged_data['beta_menisc'] * 31840)) / 137119\n",
    "\n",
    "merged_data.head()"
   ]
  },
  {
   "cell_type": "markdown",
   "metadata": {},
   "source": [
    "## Calculate Meniscus v. Non- Meniscus Arthropathy Standard Errors and Beta Values"
   ]
  },
  {
   "cell_type": "code",
   "execution_count": null,
   "metadata": {},
   "outputs": [],
   "source": [
    "merged_data['se_m_v_nm'] = np.sqrt(\n",
    "    merged_data['sebeta_nonmeniscus_pos']**2 + \n",
    "    merged_data['sebeta_menisc']**2 - \n",
    "    2 * rg * merged_data['sebeta_nonmeniscus_pos'] * merged_data['sebeta_menisc']\n",
    ")\n",
    "\n",
    "merged_data['beta_n_v_nm'] = merged_data['beta_menisc'] - merged_data['beta_arthro']\n"
   ]
  },
  {
   "cell_type": "code",
   "execution_count": null,
   "metadata": {},
   "outputs": [],
   "source": [
    "rsid_rows = merged_data[merged_data['rsids'] == 'rs4236140']\n",
    "\n",
    "print(rsid_rows)"
   ]
  },
  {
   "cell_type": "markdown",
   "metadata": {},
   "source": [
    "## Calculate Meniscus v. Non- Meniscus Arthropathy + Arthropathy Standard Errors and Beta Values (IVW and SSW)"
   ]
  },
  {
   "cell_type": "code",
   "execution_count": null,
   "metadata": {},
   "outputs": [],
   "source": [
    "rg = corr_second\n",
    "\n",
    "merged_data['sebeta_menisc_fixed'] = np.sqrt(\n",
    "    (merged_data['sebeta_menisc']**2 * merged_data['se_m_v_nm']**2 * (rg**2 - 1)) /\n",
    "    (-merged_data['sebeta_menisc']**2 + 2 * merged_data['sebeta_menisc'] * merged_data['se_m_v_nm'] * rg - merged_data['se_m_v_nm']**2)\n",
    ")\n",
    "\n",
    "merged_data['beta_menisc_fixed'] = (\n",
    "    (merged_data['beta_n_v_nm'] / merged_data['se_m_v_nm']**2 + merged_data['beta_menisc'] / merged_data['sebeta_menisc']**2) /\n",
    "    (1 / merged_data['se_m_v_nm']**2 + 1 / merged_data['sebeta_menisc']**2)\n",
    ")\n",
    "\n",
    "# merged_data['beta_menisc_fixed'] = ((merged_data['beta_n_v_nm'] * 185233) + (merged_data['beta_menisc'] * 315115)) / 500348\n"
   ]
  },
  {
   "cell_type": "code",
   "execution_count": null,
   "metadata": {},
   "outputs": [],
   "source": [
    "# rsid_rows = merged_data[merged_data['rsids'] == 'rs4236140']\n",
    "rsid_rows = merged_data[merged_data['rsids'] == 'rs143384']\n",
    "\n",
    "print(rsid_rows)"
   ]
  },
  {
   "cell_type": "code",
   "execution_count": null,
   "metadata": {},
   "outputs": [],
   "source": [
    "rsid_rows = merged_data[merged_data['rsids'] == 'rs34341465']\n",
    "\n",
    "print(rsid_rows)"
   ]
  },
  {
   "cell_type": "code",
   "execution_count": null,
   "metadata": {},
   "outputs": [],
   "source": [
    "rsid_rows = merged_data[merged_data['rsids'] == 'rs2168333']\n",
    "\n",
    "print(rsid_rows)"
   ]
  },
  {
   "cell_type": "markdown",
   "metadata": {},
   "source": [
    "## Simplify and Reform Summary Statistics for Export"
   ]
  },
  {
   "cell_type": "code",
   "execution_count": null,
   "metadata": {},
   "outputs": [],
   "source": [
    "from scipy.stats import norm\n",
    "\n",
    "merged_data['z_fixed'] = merged_data['beta_menisc_fixed'] / merged_data['sebeta_menisc_fixed']\n",
    "\n",
    "# Calculate p-value \n",
    "merged_data['pval_m_fixed'] = 2 * norm.sf(abs(merged_data['z_fixed']))\n",
    "\n",
    "# Format pval_menisc conditionally\n",
    "merged_data['pval_m_fixed'] = merged_data['pval_m_fixed'].apply(\n",
    "    lambda x: f\"{x:.2e}\" if x < 0.0001 else f\"{x:.4f}\"\n",
    ")"
   ]
  },
  {
   "cell_type": "code",
   "execution_count": null,
   "metadata": {},
   "outputs": [],
   "source": [
    "# fixed_menisc_data = merged_data[['locus', 'chrom', 'pos', 'ref', 'alt', 'rsids', \n",
    "#                                  'sebeta_menisc_fixed', 'beta_menisc_fixed', \n",
    "#                                  'z_fixed', 'pval_m_fixed']].copy()\n",
    "\n",
    "fixed_menisc_data = merged_data[['chrom', 'pos', 'ref', 'alt',  \n",
    "                                 'sebeta_menisc_fixed', 'beta_menisc_fixed', \n",
    "                                 'pval_m_fixed', 'af_alt_arthro']].copy()\n",
    "\n",
    "fixed_menisc_data.head()"
   ]
  },
  {
   "cell_type": "code",
   "execution_count": null,
   "metadata": {},
   "outputs": [],
   "source": [
    "# rsid_rows = fixed_menisc_data[fixed_menisc_data['rsids'] == 'rs4236140']\n",
    "# print(rsid_rows)"
   ]
  },
  {
   "cell_type": "code",
   "execution_count": null,
   "metadata": {},
   "outputs": [],
   "source": [
    "import numpy as np\n",
    "from scipy.stats import norm\n",
    "\n",
    "Convert p-values to chi-squared statistics\n",
    "\n",
    "fixed_menisc_data['pval_m_fixed'] = pd.to_numeric(fixed_menisc_data['pval_m_fixed'], errors='coerce')\n",
    "\n",
    "fixed_menisc_data['chi2'] = norm.ppf(1 - fixed_menisc_data['pval_m_fixed'] / 2)**2\n",
    "\n",
    "#Calculate the median chi-squared statistic\n",
    "median_chi2 = np.median(fixed_menisc_data['chi2'])\n",
    "\n",
    "#Compute inflation factor \n",
    "lambda_gc = median_chi2 / 0.455\n",
    "\n",
    "print(\"Genomic inflation factor (lambda):\", lambda_gc)"
   ]
  },
  {
   "cell_type": "code",
   "execution_count": null,
   "metadata": {},
   "outputs": [],
   "source": [
    "fixed_menisc_data.to_csv(\"fixed_menisc_sumstats.tsv\", sep='\\t', index=False)\n",
    "!bgzip -@ 6 -l 9 -c fixed_menisc_sumstats.tsv > fixed_menisc_sumstats.tsv.bgz\n",
    "fixed_menisc_data_save_path = f'{bucket}/data/fixed_menisc_sumstats.tsv.bgz'\n"
   ]
  },
  {
   "cell_type": "code",
   "execution_count": null,
   "metadata": {},
   "outputs": [],
   "source": [
    "!gsutil cp fixed_menisc_sumstats.tsv.bgz {fixed_menisc_data_save_path}"
   ]
  },
  {
   "cell_type": "code",
   "execution_count": null,
   "metadata": {},
   "outputs": [],
   "source": []
  },
  {
   "cell_type": "code",
   "execution_count": null,
   "metadata": {},
   "outputs": [],
   "source": []
  }
 ],
 "metadata": {
  "kernelspec": {
   "display_name": "Python 3",
   "language": "python",
   "name": "python3"
  },
  "language_info": {
   "codemirror_mode": {
    "name": "ipython",
    "version": 3
   },
   "file_extension": ".py",
   "mimetype": "text/x-python",
   "name": "python",
   "nbconvert_exporter": "python",
   "pygments_lexer": "ipython3",
   "version": "3.10.12"
  },
  "toc": {
   "base_numbering": 1,
   "nav_menu": {},
   "number_sections": true,
   "sideBar": true,
   "skip_h1_title": false,
   "title_cell": "Table of Contents",
   "title_sidebar": "Contents",
   "toc_cell": false,
   "toc_position": {},
   "toc_section_display": true,
   "toc_window_display": false
  }
 },
 "nbformat": 4,
 "nbformat_minor": 2
}
