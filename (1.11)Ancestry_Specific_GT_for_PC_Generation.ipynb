{
 "cells": [
  {
   "cell_type": "markdown",
   "metadata": {},
   "source": [
    "## INTRO"
   ]
  },
  {
   "cell_type": "markdown",
   "metadata": {},
   "source": [
    "**Author:** Stephan Cordogan"
   ]
  },
  {
   "cell_type": "markdown",
   "metadata": {},
   "source": [
    "This notebook generates the Genotype matrices required to compute 10 Principal Components for each of 5 broad, sufficiently represented, ancestry groups.  It uses a subset of high quality sites pruned for linkage disequilibrium, further filtered for a minimum frequency of 1%.  The resulting PCs for every individual of these ancestry groups, as well as the loadings used to generate them, will be saved to the workspace bucket for downstream use.  Computation of ancestry principal components is an expensive step in performing a GWAS, and should not be done more than once if possible.\n",
    "\n",
    "A Hail Genomic Analysis environment is required for this notebook, as well as Notebooks 1.12, 1.13, 2, 2.11, 2.12.  The specific resources required depend on the size of your cohort and number of genetic variants, but for the entire cohort with roughly 30 million SNPs per ancestry group, I recommend 12 workers, 6 of which are preemtpible, with 32 CPUs, 208 GB ram per worker, with the same configuration for the head node, with disk spaces of 500GB.  You can moniter resource usage by clicking \"View detailed spend report\" in the About tab of your workspace and searching for Metrics Exlorer on the following page."
   ]
  },
  {
   "cell_type": "markdown",
   "metadata": {},
   "source": [
    "## Import Necessary Packages"
   ]
  },
  {
   "cell_type": "code",
   "execution_count": null,
   "metadata": {
    "execution": {
     "iopub.execute_input": "2024-04-19T15:31:41.481107Z",
     "iopub.status.busy": "2024-04-19T15:31:41.480225Z",
     "iopub.status.idle": "2024-04-19T15:31:41.486288Z",
     "shell.execute_reply": "2024-04-19T15:31:41.484516Z"
    }
   },
   "outputs": [],
   "source": [
    "from datetime import datetime\n",
    "import os\n",
    "import pandas as pd\n",
    "import hail as hl\n"
   ]
  },
  {
   "cell_type": "code",
   "execution_count": null,
   "metadata": {
    "execution": {
     "iopub.execute_input": "2024-04-19T15:31:41.490973Z",
     "iopub.status.busy": "2024-04-19T15:31:41.490350Z",
     "iopub.status.idle": "2024-04-19T15:31:41.495824Z",
     "shell.execute_reply": "2024-04-19T15:31:41.494697Z"
    }
   },
   "outputs": [],
   "source": [
    "start = datetime.now()\n",
    "bucket = os.getenv('WORKSPACE_BUCKET')\n",
    "bucket\n",
    "hl.init(default_reference = \"GRCh38\")"
   ]
  },
  {
   "cell_type": "markdown",
   "metadata": {},
   "source": [
    "## Load Hail MT and filtered, pruned sites"
   ]
  },
  {
   "cell_type": "code",
   "execution_count": null,
   "metadata": {
    "execution": {
     "iopub.execute_input": "2024-04-19T15:31:59.523403Z",
     "iopub.status.busy": "2024-04-19T15:31:59.523044Z",
     "iopub.status.idle": "2024-04-19T15:31:59.530240Z",
     "shell.execute_reply": "2024-04-19T15:31:59.528918Z"
    }
   },
   "outputs": [],
   "source": [
    "# mt_path = os.getenv(\"WGS_CLINVAR_SPLIT_HAIL_PATH\")\n",
    "# mt_path = os.getenv(\"WGS_ACAF_THRESHOLD_SPLIT_HAIL_PATH\")\n",
    "mt_path = os.getenv(\"WGS_ACAF_THRESHOLD_MULTI_HAIL_PATH\")\n",
    "mt_path"
   ]
  },
  {
   "cell_type": "code",
   "execution_count": null,
   "metadata": {
    "execution": {
     "iopub.execute_input": "2024-04-19T15:31:59.535853Z",
     "iopub.status.busy": "2024-04-19T15:31:59.534946Z",
     "iopub.status.idle": "2024-04-19T15:32:04.524427Z",
     "shell.execute_reply": "2024-04-19T15:32:04.522864Z"
    }
   },
   "outputs": [],
   "source": [
    "mt = hl.read_matrix_table(mt_path)\n",
    "# mt.describe()"
   ]
  },
  {
   "cell_type": "code",
   "execution_count": null,
   "metadata": {},
   "outputs": [],
   "source": [
    "vcf_path = \"gs://fc-aou-datasets-controlled/v7/wgs/short_read/snpindel/aux/ancestry/merged_sites_only_intersection.vcf.bgz\"\n",
    "mt_qual = hl.import_vcf(vcf_path)"
   ]
  },
  {
   "cell_type": "code",
   "execution_count": null,
   "metadata": {},
   "outputs": [],
   "source": [
    "# mt_qual.describe()"
   ]
  },
  {
   "cell_type": "markdown",
   "metadata": {},
   "source": [
    "Optionally, filter matrix table by region"
   ]
  },
  {
   "cell_type": "code",
   "execution_count": null,
   "metadata": {},
   "outputs": [],
   "source": [
    "# # test_intervals = ['chr6:45000000-46000000']\n",
    "# test_intervals = ['chr2','chr3','chr4','chr5','chr6', 'chr7', 'chr8', 'chr9']\n",
    "\n",
    "# mt = hl.filter_intervals(\n",
    "#     mt,\n",
    "#     [hl.parse_locus_interval(x,)\n",
    "#      for x in test_intervals])\n",
    "\n",
    "# mt_qual = hl.filter_intervals(\n",
    "#     mt_qual,\n",
    "#     [hl.parse_locus_interval(x,)\n",
    "#      for x in test_intervals])"
   ]
  },
  {
   "cell_type": "markdown",
   "metadata": {},
   "source": [
    "Subset matrix table for filtered, pruned sites"
   ]
  },
  {
   "cell_type": "code",
   "execution_count": null,
   "metadata": {},
   "outputs": [],
   "source": [
    "qual_variants = mt_qual.rows()\n",
    "# Step 2: Filter mt based on variants present in mt_qual\n",
    "mt = mt.filter_rows(hl.is_defined(qual_variants[mt.locus, mt.alleles]))\n",
    "# mt_filtered.count()"
   ]
  },
  {
   "cell_type": "markdown",
   "metadata": {},
   "source": [
    "## Remove related samples"
   ]
  },
  {
   "cell_type": "code",
   "execution_count": null,
   "metadata": {
    "execution": {
     "iopub.execute_input": "2024-04-19T15:33:35.690611Z",
     "iopub.status.busy": "2024-04-19T15:33:35.689900Z",
     "iopub.status.idle": "2024-04-19T15:33:35.694087Z",
     "shell.execute_reply": "2024-04-19T15:33:35.693235Z"
    }
   },
   "outputs": [],
   "source": [
    "related_samples_path = \"gs://fc-aou-datasets-controlled/v7/wgs/short_read/snpindel/aux/relatedness/relatedness_flagged_samples.tsv\"\n",
    "related_remove = hl.import_table(related_samples_path,\n",
    "                                 types={\"sample_id\":\"tstr\"},\n",
    "                                key=\"sample_id\")\n",
    "\n",
    "#related_remove.count()\n",
    "mt = mt.anti_join_cols(related_remove)\n",
    "#mt.count()"
   ]
  },
  {
   "cell_type": "markdown",
   "metadata": {},
   "source": [
    "## Population stratification"
   ]
  },
  {
   "cell_type": "markdown",
   "metadata": {},
   "source": [
    "Load in predicted ancestry to subset population by broad ancestral groups"
   ]
  },
  {
   "cell_type": "code",
   "execution_count": null,
   "metadata": {
    "execution": {
     "iopub.execute_input": "2024-04-19T15:34:17.745922Z",
     "iopub.status.busy": "2024-04-19T15:34:17.745281Z",
     "iopub.status.idle": "2024-04-19T15:34:17.749816Z",
     "shell.execute_reply": "2024-04-19T15:34:17.748869Z"
    }
   },
   "outputs": [],
   "source": [
    "ancestry_pred_path = \"gs://fc-aou-datasets-controlled/v7/wgs/short_read/snpindel/aux/ancestry/ancestry_preds.tsv\"\n",
    "ancestry_pred = hl.import_table(ancestry_pred_path,\n",
    "                               key=\"research_id\", \n",
    "                               impute=True, \n",
    "                               types={\"research_id\":\"tstr\",\"pca_features\":hl.tarray(hl.tfloat)})\n",
    "mt = mt.annotate_cols(ancestry_pred = ancestry_pred[mt.s])"
   ]
  },
  {
   "cell_type": "code",
   "execution_count": null,
   "metadata": {},
   "outputs": [],
   "source": [
    "# mt.describe()"
   ]
  },
  {
   "cell_type": "code",
   "execution_count": null,
   "metadata": {},
   "outputs": [],
   "source": [
    "used_ancestries = hl.literal({\"eur\", \"afr\", \"amr\", \"eas\", \"sas\"})\n",
    "\n",
    "# Filter for used ancestries and annotate rows with call_stats\n",
    "mt = mt.filter_cols(used_ancestries.contains(mt.ancestry_pred.ancestry_pred))\n",
    "# mt = mt.annotate_rows(info = hl.agg.call_stats(mt.GT, mt.alleles))\n",
    "\n",
    "### EUR Population ###\n",
    "mt_eur = mt.filter_cols(mt.ancestry_pred.ancestry_pred == \"eur\")\n",
    "mt_eur = mt_eur.annotate_rows(info = hl.agg.call_stats(mt_eur.GT, mt_eur.alleles))\n",
    "mt_eur = mt_eur.filter_rows(hl.min(mt_eur.info.AF) > 0.01, keep=True)\n",
    "\n",
    "mt_eur_filtered = mt_eur.key_rows_by().key_cols_by().select_entries('GT') \n",
    "mt_eur_filtered = mt_eur_filtered.select_cols('s', 'ancestry_pred')  \n",
    "mt_eur_filtered = mt_eur_filtered.select_rows('locus', 'alleles', 'info') \n",
    "\n",
    "# Save the filtered MatrixTable for EUR\n",
    "mt_eur_save_path = f'{bucket}/data/mt_eur_filtered.mt'\n",
    "mt_eur_filtered.write(mt_eur_save_path, overwrite=True)\n",
    "\n",
    "### AFR Population ###\n",
    "mt_afr = mt.filter_cols(mt.ancestry_pred.ancestry_pred == \"afr\")\n",
    "mt_afr = mt_afr.annotate_rows(info = hl.agg.call_stats(mt_afr.GT, mt_afr.alleles))\n",
    "mt_afr = mt_afr.filter_rows(hl.min(mt_afr.info.AF) > 0.01, keep=True)\n",
    "\n",
    "mt_afr_filtered = mt_afr.key_rows_by().key_cols_by().select_entries('GT')  \n",
    "mt_afr_filtered = mt_afr_filtered.select_cols('s', 'ancestry_pred')  \n",
    "mt_afr_filtered = mt_afr_filtered.select_rows('locus', 'alleles', 'info')  \n",
    "\n",
    "# Save the filtered MatrixTable for AFR\n",
    "mt_afr_save_path = f'{bucket}/data/mt_afr_filtered.mt'\n",
    "mt_afr_filtered.write(mt_afr_save_path, overwrite=True)\n",
    "\n",
    "### AMR Population ###\n",
    "mt_amr = mt.filter_cols(mt.ancestry_pred.ancestry_pred == \"amr\")\n",
    "mt_amr = mt_amr.annotate_rows(info = hl.agg.call_stats(mt_amr.GT, mt_amr.alleles))\n",
    "mt_amr = mt_amr.filter_rows(hl.min(mt_amr.info.AF) > 0.01, keep=True)\n",
    "\n",
    "mt_amr_filtered = mt_amr.key_rows_by().key_cols_by().select_entries('GT')  \n",
    "mt_amr_filtered = mt_amr_filtered.select_cols('s', 'ancestry_pred')  \n",
    "mt_amr_filtered = mt_amr_filtered.select_rows('locus', 'alleles', 'info')  \n",
    "\n",
    "# Save the filtered MatrixTable for AMR\n",
    "mt_amr_save_path = f'{bucket}/data/mt_amr_filtered.mt'\n",
    "mt_amr_filtered.write(mt_amr_save_path, overwrite=True)\n",
    "\n",
    "### EAS Population ###\n",
    "mt_eas = mt.filter_cols(mt.ancestry_pred.ancestry_pred == \"eas\")\n",
    "mt_eas = mt_eas.annotate_rows(info = hl.agg.call_stats(mt_eas.GT, mt_eas.alleles))\n",
    "mt_eas = mt_eas.filter_rows(hl.min(mt_eas.info.AF) > 0.01, keep=True)\n",
    "\n",
    "mt_eas_filtered = mt_eas.key_rows_by().key_cols_by().select_entries('GT')  \n",
    "mt_eas_filtered = mt_eas_filtered.select_cols('s', 'ancestry_pred')  \n",
    "mt_eas_filtered = mt_eas_filtered.select_rows('locus', 'alleles', 'info')  \n",
    "\n",
    "# Save the filtered MatrixTable for EAS\n",
    "mt_eas_save_path = f'{bucket}/data/mt_eas_filtered.mt'\n",
    "mt_eas_filtered.write(mt_eas_save_path, overwrite=True)\n",
    "\n",
    "### SAS Population ###\n",
    "mt_sas = mt.filter_cols(mt.ancestry_pred.ancestry_pred == \"sas\")\n",
    "mt_sas = mt_sas.annotate_rows(info = hl.agg.call_stats(mt_sas.GT, mt_sas.alleles))\n",
    "mt_sas = mt_sas.filter_rows(hl.min(mt_sas.info.AF) > 0.01, keep=True)\n",
    "\n",
    "mt_sas_filtered = mt_sas.key_rows_by().key_cols_by().select_entries('GT')  \n",
    "mt_sas_filtered = mt_sas_filtered.select_cols('s', 'ancestry_pred')  \n",
    "mt_sas_filtered = mt_sas_filtered.select_rows('locus', 'alleles', 'info')  \n",
    "\n",
    "# Save the filtered MatrixTable for SAS\n",
    "mt_sas_save_path = f'{bucket}/data/mt_sas_filtered.mt'\n",
    "mt_sas_filtered.write(mt_sas_save_path, overwrite=True)\n"
   ]
  }
 ],
 "metadata": {
  "kernelspec": {
   "display_name": "Python 3",
   "language": "python",
   "name": "python3"
  },
  "language_info": {
   "codemirror_mode": {
    "name": "ipython",
    "version": 3
   },
   "file_extension": ".py",
   "mimetype": "text/x-python",
   "name": "python",
   "nbconvert_exporter": "python",
   "pygments_lexer": "ipython3",
   "version": "3.10.12"
  },
  "toc": {
   "base_numbering": 1,
   "nav_menu": {},
   "number_sections": true,
   "sideBar": true,
   "skip_h1_title": false,
   "title_cell": "Table of Contents",
   "title_sidebar": "Contents",
   "toc_cell": false,
   "toc_position": {},
   "toc_section_display": true,
   "toc_window_display": false
  }
 },
 "nbformat": 4,
 "nbformat_minor": 2
}
