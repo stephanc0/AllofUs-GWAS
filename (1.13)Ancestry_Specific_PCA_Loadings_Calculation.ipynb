{
 "cells": [
  {
   "cell_type": "markdown",
   "metadata": {},
   "source": [
    "## INTRO"
   ]
  },
  {
   "cell_type": "markdown",
   "metadata": {},
   "source": [
    "**Author:** Stephan Cordogan"
   ]
  },
  {
   "cell_type": "markdown",
   "metadata": {},
   "source": [
    "This notebook uses PC loadings to calculate PCA results for samples defined in notebook 1.11.  This may be necessary if you do not wish to recalculate PCs after AllofUs has released more WGS samples."
   ]
  },
  {
   "cell_type": "markdown",
   "metadata": {},
   "source": [
    "## Import Necessary Packages"
   ]
  },
  {
   "cell_type": "code",
   "execution_count": null,
   "metadata": {
    "execution": {
     "iopub.execute_input": "2024-04-19T15:31:41.481107Z",
     "iopub.status.busy": "2024-04-19T15:31:41.480225Z",
     "iopub.status.idle": "2024-04-19T15:31:41.486288Z",
     "shell.execute_reply": "2024-04-19T15:31:41.484516Z"
    }
   },
   "outputs": [],
   "source": [
    "from datetime import datetime\n",
    "import os\n",
    "import pandas as pd\n",
    "import hail as hl"
   ]
  },
  {
   "cell_type": "code",
   "execution_count": null,
   "metadata": {
    "execution": {
     "iopub.execute_input": "2024-04-19T15:31:41.490973Z",
     "iopub.status.busy": "2024-04-19T15:31:41.490350Z",
     "iopub.status.idle": "2024-04-19T15:31:41.495824Z",
     "shell.execute_reply": "2024-04-19T15:31:41.494697Z"
    }
   },
   "outputs": [],
   "source": [
    "start = datetime.now()\n",
    "bucket = os.getenv('WORKSPACE_BUCKET')\n",
    "bucket\n",
    "hl.init(default_reference = \"GRCh38\")"
   ]
  },
  {
   "cell_type": "markdown",
   "metadata": {},
   "source": [
    "## Project PC loadings onto samples in genotype matrix tables created in 1.11"
   ]
  },
  {
   "cell_type": "code",
   "execution_count": null,
   "metadata": {},
   "outputs": [],
   "source": [
    "#Load in PC Loadings\n",
    "loadings_ht_eur = hl.read_table(f'{bucket}/data/mt_eur_loadings_with_af.ht')\n",
    "loadings_ht_eur = loadings_ht_eur.key_by('locus', 'alleles')\n",
    "\n",
    "#Load in sub-ancestry matrix table\n",
    "mt_eur = hl.read_matrix_table(f'{bucket}/data/mt_eur_filtered.mt')\n",
    "mt_eur = mt_eur.key_rows_by('locus', 'alleles')\n",
    "mt_eur = mt_eur.key_cols_by('s')\n",
    "\n",
    "#Project loadings onto individuals\n",
    "projected_scores = hl.experimental.pc_project(mt_eur.GT, loadings_ht_eur.loadings, loadings_ht_eur.af)\n",
    "\n",
    "#Annotate Samples\n",
    "mt_eur = mt_eur.annotate_cols(\n",
    "    pca_scores=projected_scores[mt_eur.s].scores\n",
    ")\n",
    "\n",
    "#Create Individual Annotations\n",
    "mt_eur = mt_eur.annotate_cols(\n",
    "    **{f'PC{i+1}': mt_eur.pca_scores[i] for i in range(10)}\n",
    ")\n",
    "\n",
    "#Export PCAs\n",
    "eur_pcs_table = mt_eur.cols().select('PC1', 'PC2', 'PC3', 'PC4', 'PC5', 'PC6', 'PC7', 'PC8', 'PC9', 'PC10')\n",
    "mt_eur_pcs_save_path = f'{bucket}/data/mt_eur_pcs.tsv.bgz'\n",
    "eur_pcs_table.export(mt_eur_pcs_save_path)"
   ]
  },
  {
   "cell_type": "code",
   "execution_count": null,
   "metadata": {},
   "outputs": [],
   "source": [
    "loadings_ht_afr = hl.read_table(f'{bucket}/data/mt_afr_loadings_with_af.ht')\n",
    "loadings_ht_afr = loadings_ht_afr.key_by('locus', 'alleles')\n",
    "\n",
    "mt_afr = hl.read_matrix_table(f'{bucket}/data/mt_afr_filtered.mt')\n",
    "mt_afr = mt_afr.key_rows_by('locus', 'alleles')\n",
    "mt_afr = mt_afr.key_cols_by('s')\n",
    "\n",
    "projected_scores = hl.experimental.pc_project(mt_afr.GT, loadings_ht_afr.loadings, loadings_ht_afr.af)\n",
    "\n",
    "mt_afr = mt_afr.annotate_cols(\n",
    "    pca_scores=projected_scores[mt_afr.s].scores\n",
    ")\n",
    "\n",
    "mt_afr = mt_afr.annotate_cols(\n",
    "    **{f'PC{i+1}': mt_afr.pca_scores[i] for i in range(10)}\n",
    ")\n",
    "\n",
    "afr_pcs_table = mt_afr.cols().select('PC1', 'PC2', 'PC3', 'PC4', 'PC5', 'PC6', 'PC7', 'PC8', 'PC9', 'PC10')\n",
    "mt_afr_pcs_save_path = f'{bucket}/data/mt_afr_pcs.tsv.bgz'\n",
    "afr_pcs_table.export(mt_afr_pcs_save_path)\n"
   ]
  },
  {
   "cell_type": "code",
   "execution_count": null,
   "metadata": {},
   "outputs": [],
   "source": [
    "loadings_ht_amr = hl.read_table(f'{bucket}/data/mt_amr_loadings_with_af.ht')\n",
    "loadings_ht_amr = loadings_ht_amr.key_by('locus', 'alleles')\n",
    "\n",
    "mt_amr = hl.read_matrix_table(f'{bucket}/data/mt_amr_filtered.mt')\n",
    "mt_amr = mt_amr.key_rows_by('locus', 'alleles')\n",
    "mt_amr = mt_amr.key_cols_by('s')\n",
    "\n",
    "projected_scores = hl.experimental.pc_project(mt_amr.GT, loadings_ht_amr.loadings, loadings_ht_amr.af)\n",
    "\n",
    "mt_amr = mt_amr.annotate_cols(\n",
    "    pca_scores=projected_scores[mt_amr.s].scores\n",
    ")\n",
    "\n",
    "mt_amr = mt_amr.annotate_cols(\n",
    "    **{f'PC{i+1}': mt_amr.pca_scores[i] for i in range(10)}\n",
    ")\n",
    "\n",
    "amr_pcs_table = mt_amr.cols().select('PC1', 'PC2', 'PC3', 'PC4', 'PC5', 'PC6', 'PC7', 'PC8', 'PC9', 'PC10')\n",
    "mt_amr_pcs_save_path = f'{bucket}/data/mt_amr_pcs.tsv.bgz'\n",
    "amr_pcs_table.export(mt_amr_pcs_save_path)\n"
   ]
  },
  {
   "cell_type": "code",
   "execution_count": null,
   "metadata": {},
   "outputs": [],
   "source": [
    "loadings_ht_eas = hl.read_table(f'{bucket}/data/mt_eas_loadings_with_af.ht')\n",
    "loadings_ht_eas = loadings_ht_eas.key_by('locus', 'alleles')\n",
    "\n",
    "mt_eas = hl.read_matrix_table(f'{bucket}/data/mt_eas_filtered.mt')\n",
    "mt_eas = mt_eas.key_rows_by('locus', 'alleles')\n",
    "mt_eas = mt_eas.key_cols_by('s')\n",
    "\n",
    "projected_scores = hl.experimental.pc_project(mt_eas.GT, loadings_ht_eas.loadings, loadings_ht_eas.af)\n",
    "\n",
    "mt_eas = mt_eas.annotate_cols(\n",
    "    pca_scores=projected_scores[mt_eas.s].scores\n",
    ")\n",
    "\n",
    "mt_eas = mt_eas.annotate_cols(\n",
    "    **{f'PC{i+1}': mt_eas.pca_scores[i] for i in range(10)}\n",
    ")\n",
    "\n",
    "eas_pcs_table = mt_eas.cols().select('PC1', 'PC2', 'PC3', 'PC4', 'PC5', 'PC6', 'PC7', 'PC8', 'PC9', 'PC10')\n",
    "mt_eas_pcs_save_path = f'{bucket}/data/mt_eas_pcs.tsv.bgz'\n",
    "eas_pcs_table.export(mt_eas_pcs_save_path)\n"
   ]
  },
  {
   "cell_type": "code",
   "execution_count": null,
   "metadata": {},
   "outputs": [],
   "source": [
    "loadings_ht_sas = hl.read_table(f'{bucket}/data/mt_sas_loadings_with_af.ht')\n",
    "loadings_ht_sas = loadings_ht_sas.key_by('locus', 'alleles')\n",
    "\n",
    "mt_sas = hl.read_matrix_table(f'{bucket}/data/mt_sas_filtered.mt')\n",
    "mt_sas = mt_sas.key_rows_by('locus', 'alleles')\n",
    "mt_sas = mt_sas.key_cols_by('s')\n",
    "\n",
    "projected_scores = hl.experimental.pc_project(mt_sas.GT, loadings_ht_sas.loadings, loadings_ht_sas.af)\n",
    "\n",
    "mt_sas = mt_sas.annotate_cols(\n",
    "    pca_scores=projected_scores[mt_sas.s].scores\n",
    ")\n",
    "\n",
    "mt_sas = mt_sas.annotate_cols(\n",
    "    **{f'PC{i+1}': mt_sas.pca_scores[i] for i in range(10)}\n",
    ")\n",
    "\n",
    "sas_pcs_table = mt_sas.cols().select('PC1', 'PC2', 'PC3', 'PC4', 'PC5', 'PC6', 'PC7', 'PC8', 'PC9', 'PC10')\n",
    "mt_sas_pcs_save_path = f'{bucket}/data/mt_sas_pcs.tsv.bgz'\n",
    "sas_pcs_table.export(mt_sas_pcs_save_path)\n"
   ]
  }
 ],
 "metadata": {
  "kernelspec": {
   "display_name": "Python 3",
   "language": "python",
   "name": "python3"
  },
  "language_info": {
   "codemirror_mode": {
    "name": "ipython",
    "version": 3
   },
   "file_extension": ".py",
   "mimetype": "text/x-python",
   "name": "python",
   "nbconvert_exporter": "python",
   "pygments_lexer": "ipython3",
   "version": "3.10.12"
  },
  "toc": {
   "base_numbering": 1,
   "nav_menu": {},
   "number_sections": true,
   "sideBar": true,
   "skip_h1_title": false,
   "title_cell": "Table of Contents",
   "title_sidebar": "Contents",
   "toc_cell": false,
   "toc_position": {},
   "toc_section_display": true,
   "toc_window_display": false
  }
 },
 "nbformat": 4,
 "nbformat_minor": 2
}
